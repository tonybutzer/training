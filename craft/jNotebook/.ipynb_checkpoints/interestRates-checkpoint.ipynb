{
 "cells": [
  {
   "cell_type": "code",
   "execution_count": 1,
   "metadata": {},
   "outputs": [
    {
     "data": {
      "text/html": [
       "<script>requirejs.config({paths: { 'plotly': ['https://cdn.plot.ly/plotly-latest.min']},});if(!window.Plotly) {{require(['plotly'],function(plotly) {window.Plotly=plotly;});}}</script>"
      ],
      "text/vnd.plotly.v1+html": [
       "<script>requirejs.config({paths: { 'plotly': ['https://cdn.plot.ly/plotly-latest.min']},});if(!window.Plotly) {{require(['plotly'],function(plotly) {window.Plotly=plotly;});}}</script>"
      ]
     },
     "metadata": {},
     "output_type": "display_data"
    }
   ],
   "source": [
    "import plotly as py\n",
    "import plotly.graph_objs as go\n",
    "import ipywidgets as widgets\n",
    "import numpy as np\n",
    "from scipy import special \n",
    "\n",
    "py.offline.init_notebook_mode(connected=True)"
   ]
  },
  {
   "cell_type": "code",
   "execution_count": 2,
   "metadata": {},
   "outputs": [
    {
     "data": {
      "application/vnd.plotly.v1+json": {
       "data": [
        {
         "line": {
          "shape": "spline"
         },
         "mode": "lines",
         "name": "sin(x)",
         "type": "scatter",
         "x": [
          0,
          0.3490658503988659,
          0.6981317007977318,
          1.0471975511965976,
          1.3962634015954636,
          1.7453292519943295,
          2.0943951023931953,
          2.443460952792061,
          2.792526803190927,
          3.141592653589793
         ],
         "y": [
          0,
          0.3420201433256687,
          0.6427876096865393,
          0.8660254037844386,
          0.984807753012208,
          0.984807753012208,
          0.8660254037844387,
          0.6427876096865395,
          0.3420201433256689,
          1.2246467991473532e-16
         ]
        }
       ],
       "layout": {
        "title": "Simple Example Tony",
        "xaxis": {
         "title": "nanoseconds"
        },
        "yaxis": {
         "title": "volts"
        }
       }
      },
      "text/html": [
       "<div id=\"24ee1cd5-6573-4f45-9734-098518b0e8bd\" style=\"height: 525px; width: 100%;\" class=\"plotly-graph-div\"></div><script type=\"text/javascript\">require([\"plotly\"], function(Plotly) { window.PLOTLYENV=window.PLOTLYENV || {};window.PLOTLYENV.BASE_URL=\"https://plot.ly\";Plotly.newPlot(\"24ee1cd5-6573-4f45-9734-098518b0e8bd\", [{\"x\": [0.0, 0.3490658503988659, 0.6981317007977318, 1.0471975511965976, 1.3962634015954636, 1.7453292519943295, 2.0943951023931953, 2.443460952792061, 2.792526803190927, 3.141592653589793], \"mode\": \"lines\", \"y\": [0.0, 0.3420201433256687, 0.6427876096865393, 0.8660254037844386, 0.984807753012208, 0.984807753012208, 0.8660254037844387, 0.6427876096865395, 0.3420201433256689, 1.2246467991473532e-16], \"name\": \"sin(x)\", \"type\": \"scatter\", \"line\": {\"shape\": \"spline\"}}], {\"title\": \"Simple Example Tony\", \"xaxis\": {\"title\": \"nanoseconds\"}, \"yaxis\": {\"title\": \"volts\"}}, {\"linkText\": \"Export to plot.ly\", \"showLink\": true})});</script>"
      ],
      "text/vnd.plotly.v1+html": [
       "<div id=\"24ee1cd5-6573-4f45-9734-098518b0e8bd\" style=\"height: 525px; width: 100%;\" class=\"plotly-graph-div\"></div><script type=\"text/javascript\">require([\"plotly\"], function(Plotly) { window.PLOTLYENV=window.PLOTLYENV || {};window.PLOTLYENV.BASE_URL=\"https://plot.ly\";Plotly.newPlot(\"24ee1cd5-6573-4f45-9734-098518b0e8bd\", [{\"x\": [0.0, 0.3490658503988659, 0.6981317007977318, 1.0471975511965976, 1.3962634015954636, 1.7453292519943295, 2.0943951023931953, 2.443460952792061, 2.792526803190927, 3.141592653589793], \"mode\": \"lines\", \"y\": [0.0, 0.3420201433256687, 0.6427876096865393, 0.8660254037844386, 0.984807753012208, 0.984807753012208, 0.8660254037844387, 0.6427876096865395, 0.3420201433256689, 1.2246467991473532e-16], \"name\": \"sin(x)\", \"type\": \"scatter\", \"line\": {\"shape\": \"spline\"}}], {\"title\": \"Simple Example Tony\", \"xaxis\": {\"title\": \"nanoseconds\"}, \"yaxis\": {\"title\": \"volts\"}}, {\"linkText\": \"Export to plot.ly\", \"showLink\": true})});</script>"
      ]
     },
     "metadata": {},
     "output_type": "display_data"
    }
   ],
   "source": [
    "x = np.linspace(0, np.pi, 10)\n",
    "\n",
    "layout = go.Layout(\n",
    "    title=\"Simple Example Tony\",\n",
    "    yaxis=dict(\n",
    "        title='volts'\n",
    "    ),\n",
    "    xaxis=dict(title='nanoseconds'\n",
    "    )\n",
    ")\n",
    "\n",
    "trace1 = go.Scatter(\n",
    "    x=x,\n",
    "    y=np.sin(x),\n",
    "    mode='lines',\n",
    "    name='sin(x)',\n",
    "    line=dict(\n",
    "        shape='spline'\n",
    "    )\n",
    ")\n",
    "\n",
    "fig = go.Figure(data=[trace1], layout=layout)\n",
    "py.offline.iplot(fig)\n",
    "\n"
   ]
  },
  {
   "cell_type": "code",
   "execution_count": 3,
   "metadata": {},
   "outputs": [
    {
     "data": {
      "application/vnd.plotly.v1+json": {
       "data": [
        {
         "line": {
          "shape": "spline"
         },
         "mode": "markers",
         "name": "sin(x)",
         "type": "scatter",
         "x": [
          0,
          0.3490658503988659,
          0.6981317007977318,
          1.0471975511965976,
          1.3962634015954636,
          1.7453292519943295,
          2.0943951023931953,
          2.443460952792061,
          2.792526803190927,
          3.141592653589793
         ],
         "y": [
          0,
          0.3420201433256687,
          0.6427876096865393,
          0.8660254037844386,
          0.984807753012208,
          0.984807753012208,
          0.8660254037844387,
          0.6427876096865395,
          0.3420201433256689,
          1.2246467991473532e-16
         ]
        }
       ],
       "layout": {
        "title": "Simple Example Markers Only",
        "xaxis": {
         "title": "nanoseconds"
        },
        "yaxis": {
         "title": "volts"
        }
       }
      },
      "text/html": [
       "<div id=\"a93e7590-7a43-4e52-9168-9ae7b3397176\" style=\"height: 525px; width: 100%;\" class=\"plotly-graph-div\"></div><script type=\"text/javascript\">require([\"plotly\"], function(Plotly) { window.PLOTLYENV=window.PLOTLYENV || {};window.PLOTLYENV.BASE_URL=\"https://plot.ly\";Plotly.newPlot(\"a93e7590-7a43-4e52-9168-9ae7b3397176\", [{\"x\": [0.0, 0.3490658503988659, 0.6981317007977318, 1.0471975511965976, 1.3962634015954636, 1.7453292519943295, 2.0943951023931953, 2.443460952792061, 2.792526803190927, 3.141592653589793], \"mode\": \"markers\", \"y\": [0.0, 0.3420201433256687, 0.6427876096865393, 0.8660254037844386, 0.984807753012208, 0.984807753012208, 0.8660254037844387, 0.6427876096865395, 0.3420201433256689, 1.2246467991473532e-16], \"name\": \"sin(x)\", \"type\": \"scatter\", \"line\": {\"shape\": \"spline\"}}], {\"title\": \"Simple Example Markers Only\", \"xaxis\": {\"title\": \"nanoseconds\"}, \"yaxis\": {\"title\": \"volts\"}}, {\"linkText\": \"Export to plot.ly\", \"showLink\": true})});</script>"
      ],
      "text/vnd.plotly.v1+html": [
       "<div id=\"a93e7590-7a43-4e52-9168-9ae7b3397176\" style=\"height: 525px; width: 100%;\" class=\"plotly-graph-div\"></div><script type=\"text/javascript\">require([\"plotly\"], function(Plotly) { window.PLOTLYENV=window.PLOTLYENV || {};window.PLOTLYENV.BASE_URL=\"https://plot.ly\";Plotly.newPlot(\"a93e7590-7a43-4e52-9168-9ae7b3397176\", [{\"x\": [0.0, 0.3490658503988659, 0.6981317007977318, 1.0471975511965976, 1.3962634015954636, 1.7453292519943295, 2.0943951023931953, 2.443460952792061, 2.792526803190927, 3.141592653589793], \"mode\": \"markers\", \"y\": [0.0, 0.3420201433256687, 0.6427876096865393, 0.8660254037844386, 0.984807753012208, 0.984807753012208, 0.8660254037844387, 0.6427876096865395, 0.3420201433256689, 1.2246467991473532e-16], \"name\": \"sin(x)\", \"type\": \"scatter\", \"line\": {\"shape\": \"spline\"}}], {\"title\": \"Simple Example Markers Only\", \"xaxis\": {\"title\": \"nanoseconds\"}, \"yaxis\": {\"title\": \"volts\"}}, {\"linkText\": \"Export to plot.ly\", \"showLink\": true})});</script>"
      ]
     },
     "metadata": {},
     "output_type": "display_data"
    }
   ],
   "source": [
    "x = np.linspace(0, np.pi, 10)\n",
    "\n",
    "layout = go.Layout(\n",
    "    title=\"Simple Example Markers Only\",\n",
    "    yaxis=dict(\n",
    "        title='volts'\n",
    "    ),\n",
    "    xaxis=dict(title='nanoseconds'\n",
    "    )\n",
    ")\n",
    "\n",
    "trace1 = go.Scatter(\n",
    "    x=x,\n",
    "    y=np.sin(x),\n",
    "    mode='markers',\n",
    "    name='sin(x)',\n",
    "    line=dict(\n",
    "        shape='spline'\n",
    "    )\n",
    ")\n",
    "\n",
    "fig = go.Figure(data=[trace1], layout=layout)\n",
    "py.offline.iplot(fig)\n"
   ]
  },
  {
   "cell_type": "code",
   "execution_count": null,
   "metadata": {},
   "outputs": [],
   "source": []
  }
 ],
 "metadata": {
  "kernelspec": {
   "display_name": "Python 3",
   "language": "python",
   "name": "python3"
  },
  "language_info": {
   "codemirror_mode": {
    "name": "ipython",
    "version": 3
   },
   "file_extension": ".py",
   "mimetype": "text/x-python",
   "name": "python",
   "nbconvert_exporter": "python",
   "pygments_lexer": "ipython3",
   "version": "3.5.2"
  }
 },
 "nbformat": 4,
 "nbformat_minor": 2
}
