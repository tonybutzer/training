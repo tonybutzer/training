{
 "cells": [
  {
   "cell_type": "code",
   "execution_count": 1,
   "metadata": {},
   "outputs": [
    {
     "data": {
      "text/plain": [
       "(42, 8)"
      ]
     },
     "execution_count": 1,
     "metadata": {},
     "output_type": "execute_result"
    }
   ],
   "source": [
    "import pandas as pd\n",
    "import numpy as np\n",
    "df=pd.read_csv(\"/home/tony/opt/PortfolioDownload.csv\")\n",
    "df.head()\n",
    "df.shape"
   ]
  },
  {
   "cell_type": "code",
   "execution_count": 2,
   "metadata": {},
   "outputs": [
    {
     "name": "stdout",
     "output_type": "stream",
     "text": [
      "                                              Symbol    Maturity  Date Added  \\\n",
      "0  AMERICAN EXPRESS BK FSB UTAH C/D FDIC INS TO L...  11/06/2019  10/30/2014   \n",
      "1  SALLIE MAE BK MURRAY UTAH C/D FDIC INS TO LIMI...  12/09/2019  12/01/2015   \n",
      "2  ALLY BANK MIDVALE (UTAH) C/D FDIC INS TO LIMIT...  01/13/2020  01/05/2018   \n",
      "3  WELLS FARGO BANK NATL ASSN CD C/D FDIC INS TO ...  03/16/2020  03/08/2018   \n",
      "4  ALLY BK MIDVALE UTAH C/D FDIC INS TO LIMITS 2....  05/04/2020  04/30/2018   \n",
      "\n",
      "   % of Portfolio  Coupon  Estimated Annual Income  Total Cost     Value  \n",
      "0          1.8659    2.15                   215.00     10000.0   9943.80  \n",
      "1          1.8631    2.00                   200.00     10000.0   9929.00  \n",
      "2          2.0529    2.15                   236.50     11000.0  10940.82  \n",
      "3          4.6869    2.50                   624.99     25000.0  24978.25  \n",
      "4          2.8198    2.70                   405.00     15000.0  15027.75  \n",
      "<class 'pandas.core.frame.DataFrame'>\n",
      "RangeIndex: 42 entries, 0 to 41\n",
      "Data columns (total 8 columns):\n",
      "Symbol                     42 non-null object\n",
      "Maturity                   42 non-null object\n",
      "Date Added                 42 non-null object\n",
      "% of Portfolio             42 non-null float64\n",
      "Coupon                     42 non-null float64\n",
      "Estimated Annual Income    42 non-null float64\n",
      "Total Cost                 42 non-null float64\n",
      "Value                      42 non-null float64\n",
      "dtypes: float64(5), object(3)\n",
      "memory usage: 2.7+ KB\n",
      "None\n"
     ]
    }
   ],
   "source": [
    "print(df.head())\n",
    "print(df.info())"
   ]
  },
  {
   "cell_type": "code",
   "execution_count": 3,
   "metadata": {},
   "outputs": [
    {
     "data": {
      "text/plain": [
       "pandas.core.series.Series"
      ]
     },
     "execution_count": 3,
     "metadata": {},
     "output_type": "execute_result"
    }
   ],
   "source": [
    "mylist = df['Value']\n",
    "type(mylist)\n",
    "# print(mylist)"
   ]
  },
  {
   "cell_type": "code",
   "execution_count": 4,
   "metadata": {},
   "outputs": [
    {
     "data": {
      "text/plain": [
       "511173.42999999993"
      ]
     },
     "execution_count": 4,
     "metadata": {},
     "output_type": "execute_result"
    }
   ],
   "source": [
    "mylist.sum()"
   ]
  },
  {
   "cell_type": "code",
   "execution_count": 5,
   "metadata": {},
   "outputs": [
    {
     "data": {
      "text/plain": [
       "12170.795952380951"
      ]
     },
     "execution_count": 5,
     "metadata": {},
     "output_type": "execute_result"
    }
   ],
   "source": [
    "avgBond = df['Value'].mean()\n",
    "avgBond"
   ]
  },
  {
   "cell_type": "code",
   "execution_count": 6,
   "metadata": {},
   "outputs": [],
   "source": [
    "avgCoup = df['Coupon'].mean()"
   ]
  },
  {
   "cell_type": "code",
   "execution_count": 7,
   "metadata": {},
   "outputs": [
    {
     "data": {
      "text/plain": [
       "2.819047619047619"
      ]
     },
     "execution_count": 7,
     "metadata": {},
     "output_type": "execute_result"
    }
   ],
   "source": [
    "avgCoup"
   ]
  },
  {
   "cell_type": "code",
   "execution_count": 8,
   "metadata": {},
   "outputs": [],
   "source": [
    "sumIncome = df['Estimated Annual Income'].sum()"
   ]
  },
  {
   "cell_type": "code",
   "execution_count": 9,
   "metadata": {},
   "outputs": [
    {
     "data": {
      "text/plain": [
       "13583.74"
      ]
     },
     "execution_count": 9,
     "metadata": {},
     "output_type": "execute_result"
    }
   ],
   "source": [
    "sumIncome"
   ]
  },
  {
   "cell_type": "code",
   "execution_count": 10,
   "metadata": {},
   "outputs": [],
   "source": [
    "df['Maturity'] = pd.to_datetime(df.Maturity)\n",
    "df['Date Added'] = pd.to_datetime(df['Date Added'])\n",
    "\n",
    "\n",
    "df['Duration'] = df['Maturity'].sub(df['Date Added'], axis=0)\n"
   ]
  },
  {
   "cell_type": "code",
   "execution_count": 11,
   "metadata": {},
   "outputs": [],
   "source": [
    "# print (df['Duration'])\n"
   ]
  },
  {
   "cell_type": "code",
   "execution_count": 12,
   "metadata": {},
   "outputs": [],
   "source": [
    "df['intD'] = ((df['Duration']) / np.timedelta64(1, 'D') / 365) \n"
   ]
  },
  {
   "cell_type": "code",
   "execution_count": 13,
   "metadata": {},
   "outputs": [],
   "source": [
    "# print (df['intD'])"
   ]
  },
  {
   "cell_type": "code",
   "execution_count": 14,
   "metadata": {},
   "outputs": [],
   "source": [
    "x = df['intD'].values"
   ]
  },
  {
   "cell_type": "code",
   "execution_count": 15,
   "metadata": {},
   "outputs": [
    {
     "name": "stdout",
     "output_type": "stream",
     "text": [
      "[ 5.02191781  4.02465753  2.02191781  2.02465753  2.01369863  3.01917808\n",
      "  3.02465753  3.00821918  7.02465753  7.02191781  7.02465753  7.02739726\n",
      "  5.01917808  5.02191781  5.02465753 10.54246575  8.03013699  8.29863014\n",
      " 10.02465753 10.02191781 10.00273973 10.00821918 10.01369863 10.02739726\n",
      " 10.03013699 10.02465753 10.0109589  10.00821918 10.02739726 11.78630137\n",
      "  9.25753425 12.45753425  9.69589041 13.12876712 10.04657534 12.03561644\n",
      " 10.02465753 12.52876712 15.03287671 15.95616438 20.00821918 23.48493151]\n",
      "[2.15  2.    2.15  2.5   2.7   1.9   1.95  2.    2.6   2.6   2.55  2.55\n",
      " 2.4   2.4   2.45  3.375 2.9   3.    3.4   3.2   3.4   3.25  3.3   3.2\n",
      " 3.05  3.2   2.9   3.    2.95  3.    2.45  3.    2.4   3.    2.875 3.15\n",
      " 2.75  2.5   3.2   3.25  2.8   5.   ]\n"
     ]
    }
   ],
   "source": [
    "print (x)\n",
    "\n",
    "y = df['Coupon'].values\n",
    "print(y)"
   ]
  },
  {
   "cell_type": "code",
   "execution_count": 16,
   "metadata": {},
   "outputs": [
    {
     "data": {
      "image/png": "[encoded data removed]",
      "text/plain": [
       "<Figure size 432x288 with 1 Axes>"
      ]
     },
     "metadata": {},
     "output_type": "display_data"
    }
   ],
   "source": [
    "import matplotlib.pyplot as plt\n",
    "\n",
    "%matplotlib inline  \n",
    "plt.plot(x, y)\n",
    "plt.show()"
   ]
  },
  {
   "cell_type": "code",
   "execution_count": 17,
   "metadata": {},
   "outputs": [
    {
     "data": {
      "image/png": "[encoded data removed]",
      "text/plain": [
       "<Figure size 432x288 with 1 Axes>"
      ]
     },
     "metadata": {},
     "output_type": "display_data"
    }
   ],
   "source": [
    "plt.plot(x, y, 'o', color='black')\n",
    "plt.show()"
   ]
  },
  {
   "cell_type": "code",
   "execution_count": 18,
   "metadata": {},
   "outputs": [],
   "source": [
    "# print (df['Maturity'], df['Date Added'])"
   ]
  },
  {
   "cell_type": "code",
   "execution_count": 19,
   "metadata": {},
   "outputs": [],
   "source": [
    "df['timetoMature'] = df['Maturity'].sub(pd.to_datetime('5/12/2018'), axis=0)"
   ]
  },
  {
   "cell_type": "code",
   "execution_count": 27,
   "metadata": {},
   "outputs": [
    {
     "name": "stdout",
     "output_type": "stream",
     "text": [
      "[2.15  2.    2.15  2.5   2.7   1.9   1.95  2.    2.6   2.6   2.55  2.55\n",
      " 2.4   2.4   2.45  3.375 2.9   3.    3.4   3.2   3.4   3.25  3.3   3.2\n",
      " 3.05  3.2   2.9   3.    2.95  3.    2.45  3.    2.4   3.    2.875 3.15\n",
      " 2.75  2.5   3.2   3.25  2.8   5.   ]\n"
     ]
    },
    {
     "data": {
      "image/png": "[encoded data removed]",
      "text/plain": [
       "<Figure size 576x576 with 1 Axes>"
      ]
     },
     "metadata": {},
     "output_type": "display_data"
    }
   ],
   "source": [
    "df['intM'] = ((df['timetoMature']) / np.timedelta64(1, 'D') / 365)\n",
    "\n",
    "x = df['intM'].values\n",
    "\n",
    "y = df['Coupon'].values\n",
    "print(y)\n",
    "\n",
    "plt.rcParams['figure.figsize'] = (8,8)\n",
    "plt.plot(x, y, 'o', color='black')\n",
    "plt.xticks([1,2,3,5,7,10,15,20],['1','2','3','5','7','10','15','20'])\n",
    "plt.grid(color='b', linestyle='-', linewidth=1)\n",
    "plt.show()\n"
   ]
  },
  {
   "cell_type": "code",
   "execution_count": 21,
   "metadata": {},
   "outputs": [],
   "source": [
    "# https://www.youtube.com/watch?v=yCgJGsg0Xa4\n",
    "# Time Pandas vide - really cool -tony"
   ]
  }
 ],
 "metadata": {
  "kernelspec": {
   "display_name": "Python 3",
   "language": "python",
   "name": "python3"
  },
  "language_info": {
   "codemirror_mode": {
    "name": "ipython",
    "version": 3
   },
   "file_extension": ".py",
   "mimetype": "text/x-python",
   "name": "python",
   "nbconvert_exporter": "python",
   "pygments_lexer": "ipython3",
   "version": "3.5.2"
  }
 },
 "nbformat": 4,
 "nbformat_minor": 2
}
