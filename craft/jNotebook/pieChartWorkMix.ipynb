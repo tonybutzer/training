{
 "cells": [
  {
   "cell_type": "code",
   "execution_count": 1,
   "metadata": {},
   "outputs": [
    {
     "data": {
      "text/html": [
       "<script>requirejs.config({paths: { 'plotly': ['https://cdn.plot.ly/plotly-latest.min']},});if(!window.Plotly) {{require(['plotly'],function(plotly) {window.Plotly=plotly;});}}</script>"
      ],
      "text/vnd.plotly.v1+html": [
       "<script>requirejs.config({paths: { 'plotly': ['https://cdn.plot.ly/plotly-latest.min']},});if(!window.Plotly) {{require(['plotly'],function(plotly) {window.Plotly=plotly;});}}</script>"
      ]
     },
     "metadata": {},
     "output_type": "display_data"
    }
   ],
   "source": [
    "import plotly as py\n",
    "\n",
    "import plotly.graph_objs as go\n",
    "import ipywidgets as widgets\n",
    "import numpy as np\n",
    "from scipy import special \n",
    "\n",
    "py.offline.init_notebook_mode(connected=True)"
   ]
  },
  {
   "cell_type": "code",
   "execution_count": 9,
   "metadata": {},
   "outputs": [
    {
     "data": {
      "application/vnd.plotly.v1+json": {
       "data": [
        {
         "labels": [
          "metaWork",
          "Notional Architecture",
          "LCMAP Architecture",
          "ODC in a box",
          "data curation"
         ],
         "textinfo": "percent+label",
         "type": "pie",
         "values": [
          5,
          10,
          40,
          40,
          20
         ]
        }
       ],
       "layout": {}
      },
      "text/html": [
       "<div id=\"eb1fb002-302c-4bb6-b7db-4667d715bab4\" style=\"height: 525px; width: 100%;\" class=\"plotly-graph-div\"></div><script type=\"text/javascript\">require([\"plotly\"], function(Plotly) { window.PLOTLYENV=window.PLOTLYENV || {};window.PLOTLYENV.BASE_URL=\"https://plot.ly\";Plotly.newPlot(\"eb1fb002-302c-4bb6-b7db-4667d715bab4\", [{\"labels\": [\"metaWork\", \"Notional Architecture\", \"LCMAP Architecture\", \"ODC in a box\", \"data curation\"], \"values\": [5, 10, 40, 40, 20], \"type\": \"pie\", \"textinfo\": \"percent+label\"}], {}, {\"linkText\": \"Export to plot.ly\", \"showLink\": true})});</script>"
      ],
      "text/vnd.plotly.v1+html": [
       "<div id=\"eb1fb002-302c-4bb6-b7db-4667d715bab4\" style=\"height: 525px; width: 100%;\" class=\"plotly-graph-div\"></div><script type=\"text/javascript\">require([\"plotly\"], function(Plotly) { window.PLOTLYENV=window.PLOTLYENV || {};window.PLOTLYENV.BASE_URL=\"https://plot.ly\";Plotly.newPlot(\"eb1fb002-302c-4bb6-b7db-4667d715bab4\", [{\"labels\": [\"metaWork\", \"Notional Architecture\", \"LCMAP Architecture\", \"ODC in a box\", \"data curation\"], \"values\": [5, 10, 40, 40, 20], \"type\": \"pie\", \"textinfo\": \"percent+label\"}], {}, {\"linkText\": \"Export to plot.ly\", \"showLink\": true})});</script>"
      ]
     },
     "metadata": {},
     "output_type": "display_data"
    }
   ],
   "source": [
    "labels = ['metaWork','Notional Architecture','LCMAP Architecture','ODC in a box', 'data curation']\n",
    "values = [5,10, 40, 40, 20]\n",
    "\n",
    "layout = go.Layout(\n",
    "    title=\"Simple Example Tony\",\n",
    ")\n",
    "trace = go.Pie(labels=labels, values=values, textinfo='percent+label')\n",
    "\n",
    "py.offline.iplot([trace], filename='basic_pie_chart')"
   ]
  },
  {
   "cell_type": "code",
   "execution_count": 12,
   "metadata": {},
   "outputs": [
    {
     "data": {
      "application/vnd.plotly.v1+json": {
       "data": [
        {
         "labels": [
          "metaWork",
          "Notional Architecture",
          "LCMAP Architecture",
          "ODC in a box",
          "data curation"
         ],
         "textfont": {
          "color": "white"
         },
         "textinfo": "label",
         "type": "pie",
         "values": [
          5,
          10,
          40,
          40,
          20
         ]
        }
       ],
       "layout": {
        "title": "Tony ODC Work Hours/Percentages"
       }
      },
      "text/html": [
       "<div id=\"9b446cd7-00ea-4e50-ba2d-409cd96f023c\" style=\"height: 525px; width: 100%;\" class=\"plotly-graph-div\"></div><script type=\"text/javascript\">require([\"plotly\"], function(Plotly) { window.PLOTLYENV=window.PLOTLYENV || {};window.PLOTLYENV.BASE_URL=\"https://plot.ly\";Plotly.newPlot(\"9b446cd7-00ea-4e50-ba2d-409cd96f023c\", [{\"textfont\": {\"color\": \"white\"}, \"textinfo\": \"label\", \"values\": [5, 10, 40, 40, 20], \"labels\": [\"metaWork\", \"Notional Architecture\", \"LCMAP Architecture\", \"ODC in a box\", \"data curation\"], \"type\": \"pie\"}], {\"title\": \"Tony ODC Work Hours/Percentages\"}, {\"linkText\": \"Export to plot.ly\", \"showLink\": true})});</script>"
      ],
      "text/vnd.plotly.v1+html": [
       "<div id=\"9b446cd7-00ea-4e50-ba2d-409cd96f023c\" style=\"height: 525px; width: 100%;\" class=\"plotly-graph-div\"></div><script type=\"text/javascript\">require([\"plotly\"], function(Plotly) { window.PLOTLYENV=window.PLOTLYENV || {};window.PLOTLYENV.BASE_URL=\"https://plot.ly\";Plotly.newPlot(\"9b446cd7-00ea-4e50-ba2d-409cd96f023c\", [{\"textfont\": {\"color\": \"white\"}, \"textinfo\": \"label\", \"values\": [5, 10, 40, 40, 20], \"labels\": [\"metaWork\", \"Notional Architecture\", \"LCMAP Architecture\", \"ODC in a box\", \"data curation\"], \"type\": \"pie\"}], {\"title\": \"Tony ODC Work Hours/Percentages\"}, {\"linkText\": \"Export to plot.ly\", \"showLink\": true})});</script>"
      ]
     },
     "metadata": {},
     "output_type": "display_data"
    }
   ],
   "source": [
    "fig = {\n",
    "    'data': [{'labels': labels,\n",
    "              'values': values,\n",
    "              'textinfo': 'label',\n",
    "              'textfont':{'color':'white'},\n",
    "              'type': 'pie'}],\n",
    "    'layout': {'title': 'Tony ODC Work Hours/Percentages'}\n",
    "     }\n",
    "\n",
    "py.offline.iplot(fig)"
   ]
  },
  {
   "cell_type": "code",
   "execution_count": null,
   "metadata": {},
   "outputs": [],
   "source": []
  }
 ],
 "metadata": {
  "kernelspec": {
   "display_name": "Python 3",
   "language": "python",
   "name": "python3"
  },
  "language_info": {
   "codemirror_mode": {
    "name": "ipython",
    "version": 3
   },
   "file_extension": ".py",
   "mimetype": "text/x-python",
   "name": "python",
   "nbconvert_exporter": "python",
   "pygments_lexer": "ipython3",
   "version": "3.5.2"
  }
 },
 "nbformat": 4,
 "nbformat_minor": 2
}
