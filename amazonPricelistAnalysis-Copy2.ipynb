{
 "cells": [
  {
   "cell_type": "markdown",
   "metadata": {},
   "source": [
    "# Pandas Demo\n",
    "\n",
    "## Converting large data frames into digestable information\n",
    "\n",
    "### LSAA - ODC Intersections\n",
    "\n",
    "- Cloud AWS\n",
    "    - S3 storage characteristics\n",
    "    - Compute and Orchestration Models\n",
    "        - Swarm\n",
    "        - Batch\n",
    "        - Lambda\n",
    "        - Kubernetes\n",
    "        - ECS\n",
    "        - Mesos\n",
    "        - Virtualization vs. Containers\n",
    "    - Cloud formation templates\n",
    "    - Security best practices\n",
    "- Python\n",
    "    - Clean Code\n",
    "        - 12 factor applications\n",
    "        - cloud native applications\n",
    "        - PEP\n",
    "    - Code Models\n",
    "        - Structured Programmin\n",
    "        - OOP\n",
    "        - Functional Programing\n",
    "    - Cloud Ready Code\n",
    "    - Refernce Architectures\n",
    "        - microservices vs. monoliths\n",
    "    - Disk Models\n",
    "        - DASK\n",
    "    - Memory Data Structures\n",
    "        - numpy - numerical N-dimensional arrays - plus methods, attributes\n",
    "        - pandas - dataframes\n",
    "        - xarray - datasets and dataArrays\n",
    "        - zarray - new \n",
    "- Jupyter\n",
    "- Image and Data Distribution\n",
    "    - COGS and COG Recipes\n",
    "- Science\n",
    "- Tools and Practices\n",
    "\n",
    "## Process - \n",
    "- develop a charter to define scope - track results"
   ]
  },
  {
   "cell_type": "code",
   "execution_count": 1,
   "metadata": {},
   "outputs": [],
   "source": [
    "import pandas"
   ]
  },
  {
   "cell_type": "code",
   "execution_count": 2,
   "metadata": {
    "scrolled": true
   },
   "outputs": [
    {
     "name": "stderr",
     "output_type": "stream",
     "text": [
      "/home/butzer/venv/lib/python3.4/site-packages/IPython/core/interactiveshell.py:2728: DtypeWarning: Columns (28,29,30,31,32,33,34,36,48) have mixed types. Specify dtype option on import or set low_memory=False.\n",
      "  interactivity=interactivity, compiler=compiler, result=result)\n"
     ]
    }
   ],
   "source": [
    "df = pandas.read_csv('awsLink/workCopy.csv', sep=',')"
   ]
  },
  {
   "cell_type": "code",
   "execution_count": 3,
   "metadata": {},
   "outputs": [
    {
     "data": {
      "text/plain": [
       "(166505, 70)"
      ]
     },
     "execution_count": 3,
     "metadata": {},
     "output_type": "execute_result"
    }
   ],
   "source": [
    "df.shape"
   ]
  },
  {
   "cell_type": "markdown",
   "metadata": {},
   "source": [
    "# holy cow - one hundred and 60 THOUSAND line/rows -- WHOA!\n",
    "\n",
    "## Markdown is cool\n",
    "\n",
    "### Learn Markdown and conquer the world!"
   ]
  },
  {
   "cell_type": "code",
   "execution_count": 4,
   "metadata": {},
   "outputs": [
    {
     "data": {
      "text/plain": [
       "Index(['SKU', 'OfferTermCode', 'RateCode', 'TermType', 'PriceDescription',\n",
       "       'EffectiveDate', 'StartingRange', 'EndingRange', 'Unit', 'PricePerUnit',\n",
       "       'Currency', 'LeaseContractLength', 'PurchaseOption', 'OfferingClass',\n",
       "       'Product Family', 'serviceCode', 'Location', 'Location Type',\n",
       "       'Instance Type', 'Current Generation', 'Instance Family', 'vCPU',\n",
       "       'Physical Processor', 'Clock Speed', 'Memory', 'Storage',\n",
       "       'Network Performance', 'Processor Architecture', 'Storage Media',\n",
       "       'Volume Type', 'Max Volume Size', 'Max IOPS/volume',\n",
       "       'Max IOPS Burst Performance', 'Max throughput/volume', 'Provisioned',\n",
       "       'Tenancy', 'EBS Optimized', 'Operating System', 'License Model',\n",
       "       'Group', 'Group Description', 'Transfer Type', 'From Location',\n",
       "       'From Location Type', 'To Location', 'To Location Type', 'usageType',\n",
       "       'operation', 'Comments', 'Dedicated EBS Throughput', 'ECU',\n",
       "       'Enhanced Networking Supported', 'GPU', 'Instance Capacity - 10xlarge',\n",
       "       'Instance Capacity - 16xlarge', 'Instance Capacity - 2xlarge',\n",
       "       'Instance Capacity - 32xlarge', 'Instance Capacity - 4xlarge',\n",
       "       'Instance Capacity - 8xlarge', 'Instance Capacity - large',\n",
       "       'Instance Capacity - medium', 'Instance Capacity - xlarge',\n",
       "       'Intel AVX Available', 'Intel AVX2 Available', 'Intel Turbo Available',\n",
       "       'Normalization Size Factor', 'Physical Cores', 'Pre Installed S/W',\n",
       "       'Processor Features', 'Sockets'],\n",
       "      dtype='object')"
      ]
     },
     "execution_count": 4,
     "metadata": {},
     "output_type": "execute_result"
    }
   ],
   "source": [
    "df.columns"
   ]
  },
  {
   "cell_type": "code",
   "execution_count": 5,
   "metadata": {},
   "outputs": [],
   "source": [
    "subset = df[['Location', 'Instance Type', 'vCPU', 'Operating System', 'Instance Family', 'Tenancy', 'Memory', 'LeaseContractLength', 'Unit', 'PricePerUnit', 'TermType', 'Currency', 'PurchaseOption']] # subset multiple columns"
   ]
  },
  {
   "cell_type": "code",
   "execution_count": 6,
   "metadata": {},
   "outputs": [
    {
     "data": {
      "text/plain": [
       "pandas.core.frame.DataFrame"
      ]
     },
     "execution_count": 6,
     "metadata": {},
     "output_type": "execute_result"
    }
   ],
   "source": [
    "type(subset)"
   ]
  },
  {
   "cell_type": "code",
   "execution_count": 7,
   "metadata": {},
   "outputs": [
    {
     "data": {
      "text/html": [
       "<div>\n",
       "<style scoped>\n",
       "    .dataframe tbody tr th:only-of-type {\n",
       "        vertical-align: middle;\n",
       "    }\n",
       "\n",
       "    .dataframe tbody tr th {\n",
       "        vertical-align: top;\n",
       "    }\n",
       "\n",
       "    .dataframe thead th {\n",
       "        text-align: right;\n",
       "    }\n",
       "</style>\n",
       "<table border=\"1\" class=\"dataframe\">\n",
       "  <thead>\n",
       "    <tr style=\"text-align: right;\">\n",
       "      <th></th>\n",
       "      <th>Location</th>\n",
       "      <th>Instance Type</th>\n",
       "      <th>vCPU</th>\n",
       "      <th>Operating System</th>\n",
       "      <th>Instance Family</th>\n",
       "      <th>Tenancy</th>\n",
       "      <th>Memory</th>\n",
       "      <th>LeaseContractLength</th>\n",
       "      <th>Unit</th>\n",
       "      <th>PricePerUnit</th>\n",
       "      <th>TermType</th>\n",
       "      <th>Currency</th>\n",
       "      <th>PurchaseOption</th>\n",
       "    </tr>\n",
       "  </thead>\n",
       "  <tbody>\n",
       "    <tr>\n",
       "      <th>0</th>\n",
       "      <td>US East (Ohio)</td>\n",
       "      <td>m4.xlarge</td>\n",
       "      <td>4.0</td>\n",
       "      <td>RHEL</td>\n",
       "      <td>General purpose</td>\n",
       "      <td>Dedicated</td>\n",
       "      <td>16 GiB</td>\n",
       "      <td>1yr</td>\n",
       "      <td>Hrs</td>\n",
       "      <td>0.2230</td>\n",
       "      <td>Reserved</td>\n",
       "      <td>USD</td>\n",
       "      <td>No Upfront</td>\n",
       "    </tr>\n",
       "    <tr>\n",
       "      <th>1</th>\n",
       "      <td>EU (Frankfurt)</td>\n",
       "      <td>r4.16xlarge</td>\n",
       "      <td>64.0</td>\n",
       "      <td>Windows</td>\n",
       "      <td>Memory optimized</td>\n",
       "      <td>Shared</td>\n",
       "      <td>488 GiB</td>\n",
       "      <td>3yr</td>\n",
       "      <td>Hrs</td>\n",
       "      <td>6.6146</td>\n",
       "      <td>Reserved</td>\n",
       "      <td>USD</td>\n",
       "      <td>No Upfront</td>\n",
       "    </tr>\n",
       "    <tr>\n",
       "      <th>2</th>\n",
       "      <td>Asia Pacific (Seoul)</td>\n",
       "      <td>i2.4xlarge</td>\n",
       "      <td>16.0</td>\n",
       "      <td>Windows</td>\n",
       "      <td>Storage optimized</td>\n",
       "      <td>Dedicated</td>\n",
       "      <td>122 GiB</td>\n",
       "      <td>NaN</td>\n",
       "      <td>Hrs</td>\n",
       "      <td>5.1382</td>\n",
       "      <td>OnDemand</td>\n",
       "      <td>USD</td>\n",
       "      <td>NaN</td>\n",
       "    </tr>\n",
       "    <tr>\n",
       "      <th>3</th>\n",
       "      <td>Asia Pacific (Singapore)</td>\n",
       "      <td>m3.2xlarge</td>\n",
       "      <td>8.0</td>\n",
       "      <td>Windows</td>\n",
       "      <td>General purpose</td>\n",
       "      <td>Dedicated</td>\n",
       "      <td>30 GiB</td>\n",
       "      <td>1yr</td>\n",
       "      <td>Hrs</td>\n",
       "      <td>1.0070</td>\n",
       "      <td>Reserved</td>\n",
       "      <td>USD</td>\n",
       "      <td>Partial Upfront</td>\n",
       "    </tr>\n",
       "    <tr>\n",
       "      <th>4</th>\n",
       "      <td>Asia Pacific (Sydney)</td>\n",
       "      <td>m1.medium</td>\n",
       "      <td>1.0</td>\n",
       "      <td>RHEL</td>\n",
       "      <td>General purpose</td>\n",
       "      <td>Shared</td>\n",
       "      <td>3.75 GiB</td>\n",
       "      <td>1yr</td>\n",
       "      <td>Quantity</td>\n",
       "      <td>1080.0000</td>\n",
       "      <td>Reserved</td>\n",
       "      <td>USD</td>\n",
       "      <td>All Upfront</td>\n",
       "    </tr>\n",
       "  </tbody>\n",
       "</table>\n",
       "</div>"
      ],
      "text/plain": [
       "                   Location Instance Type  vCPU Operating System  \\\n",
       "0            US East (Ohio)     m4.xlarge   4.0             RHEL   \n",
       "1            EU (Frankfurt)   r4.16xlarge  64.0          Windows   \n",
       "2      Asia Pacific (Seoul)    i2.4xlarge  16.0          Windows   \n",
       "3  Asia Pacific (Singapore)    m3.2xlarge   8.0          Windows   \n",
       "4     Asia Pacific (Sydney)     m1.medium   1.0             RHEL   \n",
       "\n",
       "     Instance Family    Tenancy    Memory LeaseContractLength      Unit  \\\n",
       "0    General purpose  Dedicated    16 GiB                 1yr       Hrs   \n",
       "1   Memory optimized     Shared   488 GiB                 3yr       Hrs   \n",
       "2  Storage optimized  Dedicated   122 GiB                 NaN       Hrs   \n",
       "3    General purpose  Dedicated    30 GiB                 1yr       Hrs   \n",
       "4    General purpose     Shared  3.75 GiB                 1yr  Quantity   \n",
       "\n",
       "   PricePerUnit  TermType Currency   PurchaseOption  \n",
       "0        0.2230  Reserved      USD       No Upfront  \n",
       "1        6.6146  Reserved      USD       No Upfront  \n",
       "2        5.1382  OnDemand      USD              NaN  \n",
       "3        1.0070  Reserved      USD  Partial Upfront  \n",
       "4     1080.0000  Reserved      USD      All Upfront  "
      ]
     },
     "execution_count": 7,
     "metadata": {},
     "output_type": "execute_result"
    }
   ],
   "source": [
    "subset.head()"
   ]
  },
  {
   "cell_type": "markdown",
   "metadata": {},
   "source": [
    "# what does the above look like\n",
    "- kind of like a spreadsheet - that's  right a pand data frame"
   ]
  },
  {
   "cell_type": "code",
   "execution_count": 8,
   "metadata": {},
   "outputs": [
    {
     "data": {
      "text/plain": [
       "(166505, 13)"
      ]
     },
     "execution_count": 8,
     "metadata": {},
     "output_type": "execute_result"
    }
   ],
   "source": [
    "subset.shape"
   ]
  },
  {
   "cell_type": "code",
   "execution_count": null,
   "metadata": {},
   "outputs": [],
   "source": []
  },
  {
   "cell_type": "code",
   "execution_count": 9,
   "metadata": {},
   "outputs": [
    {
     "data": {
      "text/plain": [
       "Shared       84502\n",
       "Dedicated    75353\n",
       "Host          5364\n",
       "Name: Tenancy, dtype: int64"
      ]
     },
     "execution_count": 9,
     "metadata": {},
     "output_type": "execute_result"
    }
   ],
   "source": [
    "subset['Tenancy'].value_counts()"
   ]
  },
  {
   "cell_type": "code",
   "execution_count": 10,
   "metadata": {},
   "outputs": [],
   "source": [
    "%matplotlib inline"
   ]
  },
  {
   "cell_type": "code",
   "execution_count": 11,
   "metadata": {},
   "outputs": [
    {
     "data": {
      "text/plain": [
       "<matplotlib.axes._subplots.AxesSubplot at 0x7fa9180a7b38>"
      ]
     },
     "execution_count": 11,
     "metadata": {},
     "output_type": "execute_result"
    },
    {
     "data": {
      "image/png": "[encoded data removed]",
      "text/plain": [
       "<matplotlib.figure.Figure at 0x7fa9180a74a8>"
      ]
     },
     "metadata": {},
     "output_type": "display_data"
    }
   ],
   "source": [
    "subset['Tenancy'].value_counts().plot(kind='bar')"
   ]
  },
  {
   "cell_type": "code",
   "execution_count": 12,
   "metadata": {},
   "outputs": [],
   "source": [
    "t2_nano=subset[subset['Instance Type'] == \"t2.nano\"]"
   ]
  },
  {
   "cell_type": "code",
   "execution_count": 13,
   "metadata": {},
   "outputs": [
    {
     "data": {
      "text/html": [
       "<div>\n",
       "<style scoped>\n",
       "    .dataframe tbody tr th:only-of-type {\n",
       "        vertical-align: middle;\n",
       "    }\n",
       "\n",
       "    .dataframe tbody tr th {\n",
       "        vertical-align: top;\n",
       "    }\n",
       "\n",
       "    .dataframe thead th {\n",
       "        text-align: right;\n",
       "    }\n",
       "</style>\n",
       "<table border=\"1\" class=\"dataframe\">\n",
       "  <thead>\n",
       "    <tr style=\"text-align: right;\">\n",
       "      <th></th>\n",
       "      <th>Location</th>\n",
       "      <th>Instance Type</th>\n",
       "      <th>vCPU</th>\n",
       "      <th>Operating System</th>\n",
       "      <th>Instance Family</th>\n",
       "      <th>Tenancy</th>\n",
       "      <th>Memory</th>\n",
       "      <th>LeaseContractLength</th>\n",
       "      <th>Unit</th>\n",
       "      <th>PricePerUnit</th>\n",
       "      <th>TermType</th>\n",
       "      <th>Currency</th>\n",
       "      <th>PurchaseOption</th>\n",
       "    </tr>\n",
       "  </thead>\n",
       "  <tbody>\n",
       "    <tr>\n",
       "      <th>126</th>\n",
       "      <td>Asia Pacific (Seoul)</td>\n",
       "      <td>t2.nano</td>\n",
       "      <td>1.0</td>\n",
       "      <td>Windows</td>\n",
       "      <td>General purpose</td>\n",
       "      <td>Shared</td>\n",
       "      <td>0.5 GiB</td>\n",
       "      <td>3yr</td>\n",
       "      <td>Quantity</td>\n",
       "      <td>179.0000</td>\n",
       "      <td>Reserved</td>\n",
       "      <td>USD</td>\n",
       "      <td>All Upfront</td>\n",
       "    </tr>\n",
       "    <tr>\n",
       "      <th>515</th>\n",
       "      <td>Asia Pacific (Mumbai)</td>\n",
       "      <td>t2.nano</td>\n",
       "      <td>1.0</td>\n",
       "      <td>Linux</td>\n",
       "      <td>General purpose</td>\n",
       "      <td>Shared</td>\n",
       "      <td>0.5 GiB</td>\n",
       "      <td>3yr</td>\n",
       "      <td>Hrs</td>\n",
       "      <td>0.0027</td>\n",
       "      <td>Reserved</td>\n",
       "      <td>USD</td>\n",
       "      <td>Partial Upfront</td>\n",
       "    </tr>\n",
       "    <tr>\n",
       "      <th>518</th>\n",
       "      <td>South America (Sao Paulo)</td>\n",
       "      <td>t2.nano</td>\n",
       "      <td>1.0</td>\n",
       "      <td>Linux</td>\n",
       "      <td>General purpose</td>\n",
       "      <td>Shared</td>\n",
       "      <td>0.5 GiB</td>\n",
       "      <td>3yr</td>\n",
       "      <td>Hrs</td>\n",
       "      <td>0.0026</td>\n",
       "      <td>Reserved</td>\n",
       "      <td>USD</td>\n",
       "      <td>Partial Upfront</td>\n",
       "    </tr>\n",
       "    <tr>\n",
       "      <th>685</th>\n",
       "      <td>South America (Sao Paulo)</td>\n",
       "      <td>t2.nano</td>\n",
       "      <td>1.0</td>\n",
       "      <td>Linux</td>\n",
       "      <td>General purpose</td>\n",
       "      <td>Shared</td>\n",
       "      <td>0.5 GiB</td>\n",
       "      <td>1yr</td>\n",
       "      <td>Hrs</td>\n",
       "      <td>0.0062</td>\n",
       "      <td>Reserved</td>\n",
       "      <td>USD</td>\n",
       "      <td>No Upfront</td>\n",
       "    </tr>\n",
       "    <tr>\n",
       "      <th>691</th>\n",
       "      <td>US East (N. Virginia)</td>\n",
       "      <td>t2.nano</td>\n",
       "      <td>1.0</td>\n",
       "      <td>Windows</td>\n",
       "      <td>General purpose</td>\n",
       "      <td>Shared</td>\n",
       "      <td>0.5 GiB</td>\n",
       "      <td>3yr</td>\n",
       "      <td>Quantity</td>\n",
       "      <td>66.0000</td>\n",
       "      <td>Reserved</td>\n",
       "      <td>USD</td>\n",
       "      <td>Partial Upfront</td>\n",
       "    </tr>\n",
       "    <tr>\n",
       "      <th>695</th>\n",
       "      <td>Asia Pacific (Seoul)</td>\n",
       "      <td>t2.nano</td>\n",
       "      <td>1.0</td>\n",
       "      <td>SUSE</td>\n",
       "      <td>General purpose</td>\n",
       "      <td>Shared</td>\n",
       "      <td>0.5 GiB</td>\n",
       "      <td>3yr</td>\n",
       "      <td>Quantity</td>\n",
       "      <td>301.0000</td>\n",
       "      <td>Reserved</td>\n",
       "      <td>USD</td>\n",
       "      <td>All Upfront</td>\n",
       "    </tr>\n",
       "  </tbody>\n",
       "</table>\n",
       "</div>"
      ],
      "text/plain": [
       "                      Location Instance Type  vCPU Operating System  \\\n",
       "126       Asia Pacific (Seoul)       t2.nano   1.0          Windows   \n",
       "515      Asia Pacific (Mumbai)       t2.nano   1.0            Linux   \n",
       "518  South America (Sao Paulo)       t2.nano   1.0            Linux   \n",
       "685  South America (Sao Paulo)       t2.nano   1.0            Linux   \n",
       "691      US East (N. Virginia)       t2.nano   1.0          Windows   \n",
       "695       Asia Pacific (Seoul)       t2.nano   1.0             SUSE   \n",
       "\n",
       "     Instance Family Tenancy   Memory LeaseContractLength      Unit  \\\n",
       "126  General purpose  Shared  0.5 GiB                 3yr  Quantity   \n",
       "515  General purpose  Shared  0.5 GiB                 3yr       Hrs   \n",
       "518  General purpose  Shared  0.5 GiB                 3yr       Hrs   \n",
       "685  General purpose  Shared  0.5 GiB                 1yr       Hrs   \n",
       "691  General purpose  Shared  0.5 GiB                 3yr  Quantity   \n",
       "695  General purpose  Shared  0.5 GiB                 3yr  Quantity   \n",
       "\n",
       "     PricePerUnit  TermType Currency   PurchaseOption  \n",
       "126      179.0000  Reserved      USD      All Upfront  \n",
       "515        0.0027  Reserved      USD  Partial Upfront  \n",
       "518        0.0026  Reserved      USD  Partial Upfront  \n",
       "685        0.0062  Reserved      USD       No Upfront  \n",
       "691       66.0000  Reserved      USD  Partial Upfront  \n",
       "695      301.0000  Reserved      USD      All Upfront  "
      ]
     },
     "execution_count": 13,
     "metadata": {},
     "output_type": "execute_result"
    }
   ],
   "source": [
    "t2_nano[:6]"
   ]
  },
  {
   "cell_type": "code",
   "execution_count": 14,
   "metadata": {},
   "outputs": [
    {
     "data": {
      "text/plain": [
       "Index(['Location', 'Instance Type', 'vCPU', 'Operating System',\n",
       "       'Instance Family', 'Tenancy', 'Memory', 'LeaseContractLength', 'Unit',\n",
       "       'PricePerUnit', 'TermType', 'Currency', 'PurchaseOption'],\n",
       "      dtype='object')"
      ]
     },
     "execution_count": 14,
     "metadata": {},
     "output_type": "execute_result"
    }
   ],
   "source": [
    "t2_nano.columns"
   ]
  },
  {
   "cell_type": "code",
   "execution_count": 15,
   "metadata": {},
   "outputs": [],
   "source": [
    "t2_nano_jr = t2_nano[['Location', 'Operating System', 'LeaseContractLength', 'Unit', 'PricePerUnit', 'Currency','PurchaseOption']]"
   ]
  },
  {
   "cell_type": "code",
   "execution_count": 16,
   "metadata": {},
   "outputs": [
    {
     "data": {
      "text/html": [
       "<div>\n",
       "<style scoped>\n",
       "    .dataframe tbody tr th:only-of-type {\n",
       "        vertical-align: middle;\n",
       "    }\n",
       "\n",
       "    .dataframe tbody tr th {\n",
       "        vertical-align: top;\n",
       "    }\n",
       "\n",
       "    .dataframe thead th {\n",
       "        text-align: right;\n",
       "    }\n",
       "</style>\n",
       "<table border=\"1\" class=\"dataframe\">\n",
       "  <thead>\n",
       "    <tr style=\"text-align: right;\">\n",
       "      <th></th>\n",
       "      <th>Location</th>\n",
       "      <th>Operating System</th>\n",
       "      <th>LeaseContractLength</th>\n",
       "      <th>Unit</th>\n",
       "      <th>PricePerUnit</th>\n",
       "      <th>Currency</th>\n",
       "      <th>PurchaseOption</th>\n",
       "    </tr>\n",
       "  </thead>\n",
       "  <tbody>\n",
       "    <tr>\n",
       "      <th>126</th>\n",
       "      <td>Asia Pacific (Seoul)</td>\n",
       "      <td>Windows</td>\n",
       "      <td>3yr</td>\n",
       "      <td>Quantity</td>\n",
       "      <td>179.0000</td>\n",
       "      <td>USD</td>\n",
       "      <td>All Upfront</td>\n",
       "    </tr>\n",
       "    <tr>\n",
       "      <th>515</th>\n",
       "      <td>Asia Pacific (Mumbai)</td>\n",
       "      <td>Linux</td>\n",
       "      <td>3yr</td>\n",
       "      <td>Hrs</td>\n",
       "      <td>0.0027</td>\n",
       "      <td>USD</td>\n",
       "      <td>Partial Upfront</td>\n",
       "    </tr>\n",
       "    <tr>\n",
       "      <th>518</th>\n",
       "      <td>South America (Sao Paulo)</td>\n",
       "      <td>Linux</td>\n",
       "      <td>3yr</td>\n",
       "      <td>Hrs</td>\n",
       "      <td>0.0026</td>\n",
       "      <td>USD</td>\n",
       "      <td>Partial Upfront</td>\n",
       "    </tr>\n",
       "    <tr>\n",
       "      <th>685</th>\n",
       "      <td>South America (Sao Paulo)</td>\n",
       "      <td>Linux</td>\n",
       "      <td>1yr</td>\n",
       "      <td>Hrs</td>\n",
       "      <td>0.0062</td>\n",
       "      <td>USD</td>\n",
       "      <td>No Upfront</td>\n",
       "    </tr>\n",
       "    <tr>\n",
       "      <th>691</th>\n",
       "      <td>US East (N. Virginia)</td>\n",
       "      <td>Windows</td>\n",
       "      <td>3yr</td>\n",
       "      <td>Quantity</td>\n",
       "      <td>66.0000</td>\n",
       "      <td>USD</td>\n",
       "      <td>Partial Upfront</td>\n",
       "    </tr>\n",
       "    <tr>\n",
       "      <th>695</th>\n",
       "      <td>Asia Pacific (Seoul)</td>\n",
       "      <td>SUSE</td>\n",
       "      <td>3yr</td>\n",
       "      <td>Quantity</td>\n",
       "      <td>301.0000</td>\n",
       "      <td>USD</td>\n",
       "      <td>All Upfront</td>\n",
       "    </tr>\n",
       "    <tr>\n",
       "      <th>828</th>\n",
       "      <td>US West (N. California)</td>\n",
       "      <td>SUSE</td>\n",
       "      <td>3yr</td>\n",
       "      <td>Quantity</td>\n",
       "      <td>296.0000</td>\n",
       "      <td>USD</td>\n",
       "      <td>All Upfront</td>\n",
       "    </tr>\n",
       "  </tbody>\n",
       "</table>\n",
       "</div>"
      ],
      "text/plain": [
       "                      Location Operating System LeaseContractLength      Unit  \\\n",
       "126       Asia Pacific (Seoul)          Windows                 3yr  Quantity   \n",
       "515      Asia Pacific (Mumbai)            Linux                 3yr       Hrs   \n",
       "518  South America (Sao Paulo)            Linux                 3yr       Hrs   \n",
       "685  South America (Sao Paulo)            Linux                 1yr       Hrs   \n",
       "691      US East (N. Virginia)          Windows                 3yr  Quantity   \n",
       "695       Asia Pacific (Seoul)             SUSE                 3yr  Quantity   \n",
       "828    US West (N. California)             SUSE                 3yr  Quantity   \n",
       "\n",
       "     PricePerUnit Currency   PurchaseOption  \n",
       "126      179.0000      USD      All Upfront  \n",
       "515        0.0027      USD  Partial Upfront  \n",
       "518        0.0026      USD  Partial Upfront  \n",
       "685        0.0062      USD       No Upfront  \n",
       "691       66.0000      USD  Partial Upfront  \n",
       "695      301.0000      USD      All Upfront  \n",
       "828      296.0000      USD      All Upfront  "
      ]
     },
     "execution_count": 16,
     "metadata": {},
     "output_type": "execute_result"
    }
   ],
   "source": [
    "t2_nano_jr[:7]"
   ]
  },
  {
   "cell_type": "code",
   "execution_count": 17,
   "metadata": {},
   "outputs": [
    {
     "data": {
      "text/html": [
       "<div>\n",
       "<style scoped>\n",
       "    .dataframe tbody tr th:only-of-type {\n",
       "        vertical-align: middle;\n",
       "    }\n",
       "\n",
       "    .dataframe tbody tr th {\n",
       "        vertical-align: top;\n",
       "    }\n",
       "\n",
       "    .dataframe thead th {\n",
       "        text-align: right;\n",
       "    }\n",
       "</style>\n",
       "<table border=\"1\" class=\"dataframe\">\n",
       "  <thead>\n",
       "    <tr style=\"text-align: right;\">\n",
       "      <th></th>\n",
       "      <th>Location</th>\n",
       "      <th>Operating System</th>\n",
       "      <th>LeaseContractLength</th>\n",
       "      <th>Unit</th>\n",
       "      <th>PricePerUnit</th>\n",
       "      <th>Currency</th>\n",
       "      <th>PurchaseOption</th>\n",
       "    </tr>\n",
       "  </thead>\n",
       "  <tbody>\n",
       "    <tr>\n",
       "      <th>126</th>\n",
       "      <td>Asia Pacific (Seoul)</td>\n",
       "      <td>Windows</td>\n",
       "      <td>3yr</td>\n",
       "      <td>Quantity</td>\n",
       "      <td>179.0000</td>\n",
       "      <td>USD</td>\n",
       "      <td>All Upfront</td>\n",
       "    </tr>\n",
       "    <tr>\n",
       "      <th>515</th>\n",
       "      <td>Asia Pacific (Mumbai)</td>\n",
       "      <td>Linux</td>\n",
       "      <td>3yr</td>\n",
       "      <td>Hrs</td>\n",
       "      <td>0.0027</td>\n",
       "      <td>USD</td>\n",
       "      <td>Partial Upfront</td>\n",
       "    </tr>\n",
       "    <tr>\n",
       "      <th>518</th>\n",
       "      <td>South America (Sao Paulo)</td>\n",
       "      <td>Linux</td>\n",
       "      <td>3yr</td>\n",
       "      <td>Hrs</td>\n",
       "      <td>0.0026</td>\n",
       "      <td>USD</td>\n",
       "      <td>Partial Upfront</td>\n",
       "    </tr>\n",
       "    <tr>\n",
       "      <th>685</th>\n",
       "      <td>South America (Sao Paulo)</td>\n",
       "      <td>Linux</td>\n",
       "      <td>1yr</td>\n",
       "      <td>Hrs</td>\n",
       "      <td>0.0062</td>\n",
       "      <td>USD</td>\n",
       "      <td>No Upfront</td>\n",
       "    </tr>\n",
       "    <tr>\n",
       "      <th>691</th>\n",
       "      <td>US East (N. Virginia)</td>\n",
       "      <td>Windows</td>\n",
       "      <td>3yr</td>\n",
       "      <td>Quantity</td>\n",
       "      <td>66.0000</td>\n",
       "      <td>USD</td>\n",
       "      <td>Partial Upfront</td>\n",
       "    </tr>\n",
       "    <tr>\n",
       "      <th>695</th>\n",
       "      <td>Asia Pacific (Seoul)</td>\n",
       "      <td>SUSE</td>\n",
       "      <td>3yr</td>\n",
       "      <td>Quantity</td>\n",
       "      <td>301.0000</td>\n",
       "      <td>USD</td>\n",
       "      <td>All Upfront</td>\n",
       "    </tr>\n",
       "    <tr>\n",
       "      <th>828</th>\n",
       "      <td>US West (N. California)</td>\n",
       "      <td>SUSE</td>\n",
       "      <td>3yr</td>\n",
       "      <td>Quantity</td>\n",
       "      <td>296.0000</td>\n",
       "      <td>USD</td>\n",
       "      <td>All Upfront</td>\n",
       "    </tr>\n",
       "    <tr>\n",
       "      <th>1459</th>\n",
       "      <td>US East (Ohio)</td>\n",
       "      <td>SUSE</td>\n",
       "      <td>NaN</td>\n",
       "      <td>Hrs</td>\n",
       "      <td>0.0159</td>\n",
       "      <td>USD</td>\n",
       "      <td>NaN</td>\n",
       "    </tr>\n",
       "    <tr>\n",
       "      <th>1771</th>\n",
       "      <td>US West (N. California)</td>\n",
       "      <td>Linux</td>\n",
       "      <td>3yr</td>\n",
       "      <td>Hrs</td>\n",
       "      <td>0.0000</td>\n",
       "      <td>USD</td>\n",
       "      <td>All Upfront</td>\n",
       "    </tr>\n",
       "  </tbody>\n",
       "</table>\n",
       "</div>"
      ],
      "text/plain": [
       "                       Location Operating System LeaseContractLength  \\\n",
       "126        Asia Pacific (Seoul)          Windows                 3yr   \n",
       "515       Asia Pacific (Mumbai)            Linux                 3yr   \n",
       "518   South America (Sao Paulo)            Linux                 3yr   \n",
       "685   South America (Sao Paulo)            Linux                 1yr   \n",
       "691       US East (N. Virginia)          Windows                 3yr   \n",
       "695        Asia Pacific (Seoul)             SUSE                 3yr   \n",
       "828     US West (N. California)             SUSE                 3yr   \n",
       "1459             US East (Ohio)             SUSE                 NaN   \n",
       "1771    US West (N. California)            Linux                 3yr   \n",
       "\n",
       "          Unit  PricePerUnit Currency   PurchaseOption  \n",
       "126   Quantity      179.0000      USD      All Upfront  \n",
       "515        Hrs        0.0027      USD  Partial Upfront  \n",
       "518        Hrs        0.0026      USD  Partial Upfront  \n",
       "685        Hrs        0.0062      USD       No Upfront  \n",
       "691   Quantity       66.0000      USD  Partial Upfront  \n",
       "695   Quantity      301.0000      USD      All Upfront  \n",
       "828   Quantity      296.0000      USD      All Upfront  \n",
       "1459       Hrs        0.0159      USD              NaN  \n",
       "1771       Hrs        0.0000      USD      All Upfront  "
      ]
     },
     "execution_count": 17,
     "metadata": {},
     "output_type": "execute_result"
    }
   ],
   "source": [
    "t2_nano_jr.head(9)"
   ]
  },
  {
   "cell_type": "code",
   "execution_count": 18,
   "metadata": {},
   "outputs": [],
   "source": [
    "t2_nano_1yr=t2_nano_jr[t2_nano_jr['LeaseContractLength'] == \"1yr\"]"
   ]
  },
  {
   "cell_type": "code",
   "execution_count": 19,
   "metadata": {},
   "outputs": [
    {
     "data": {
      "text/plain": [
       "(225, 7)"
      ]
     },
     "execution_count": 19,
     "metadata": {},
     "output_type": "execute_result"
    }
   ],
   "source": [
    "t2_nano_1yr.shape"
   ]
  },
  {
   "cell_type": "code",
   "execution_count": 20,
   "metadata": {},
   "outputs": [],
   "source": [
    "t2_nano_1yr_linux=t2_nano_1yr[t2_nano_1yr['Operating System'] == \"Linux\"]"
   ]
  },
  {
   "cell_type": "code",
   "execution_count": 21,
   "metadata": {},
   "outputs": [],
   "source": [
    "#t2_nano_1yr_linux[:10]"
   ]
  },
  {
   "cell_type": "code",
   "execution_count": 22,
   "metadata": {},
   "outputs": [],
   "source": [
    "t2_nano_tony=t2_nano_1yr_linux[t2_nano_1yr_linux['Unit'] == \"Quantity\"]"
   ]
  },
  {
   "cell_type": "code",
   "execution_count": 23,
   "metadata": {},
   "outputs": [],
   "source": [
    "#t2_nano_tony"
   ]
  },
  {
   "cell_type": "code",
   "execution_count": 24,
   "metadata": {},
   "outputs": [],
   "source": [
    "t2_s = t2_nano_tony.sort_values('Location')"
   ]
  },
  {
   "cell_type": "code",
   "execution_count": 25,
   "metadata": {},
   "outputs": [
    {
     "data": {
      "text/html": [
       "<div>\n",
       "<style scoped>\n",
       "    .dataframe tbody tr th:only-of-type {\n",
       "        vertical-align: middle;\n",
       "    }\n",
       "\n",
       "    .dataframe tbody tr th {\n",
       "        vertical-align: top;\n",
       "    }\n",
       "\n",
       "    .dataframe thead th {\n",
       "        text-align: right;\n",
       "    }\n",
       "</style>\n",
       "<table border=\"1\" class=\"dataframe\">\n",
       "  <thead>\n",
       "    <tr style=\"text-align: right;\">\n",
       "      <th></th>\n",
       "      <th>Location</th>\n",
       "      <th>Operating System</th>\n",
       "      <th>LeaseContractLength</th>\n",
       "      <th>Unit</th>\n",
       "      <th>PricePerUnit</th>\n",
       "      <th>Currency</th>\n",
       "      <th>PurchaseOption</th>\n",
       "    </tr>\n",
       "  </thead>\n",
       "  <tbody>\n",
       "    <tr>\n",
       "      <th>26115</th>\n",
       "      <td>Asia Pacific (Mumbai)</td>\n",
       "      <td>Linux</td>\n",
       "      <td>1yr</td>\n",
       "      <td>Quantity</td>\n",
       "      <td>47.0</td>\n",
       "      <td>USD</td>\n",
       "      <td>All Upfront</td>\n",
       "    </tr>\n",
       "    <tr>\n",
       "      <th>113874</th>\n",
       "      <td>Asia Pacific (Seoul)</td>\n",
       "      <td>Linux</td>\n",
       "      <td>1yr</td>\n",
       "      <td>Quantity</td>\n",
       "      <td>51.0</td>\n",
       "      <td>USD</td>\n",
       "      <td>All Upfront</td>\n",
       "    </tr>\n",
       "    <tr>\n",
       "      <th>42007</th>\n",
       "      <td>Asia Pacific (Seoul)</td>\n",
       "      <td>Linux</td>\n",
       "      <td>1yr</td>\n",
       "      <td>Quantity</td>\n",
       "      <td>26.0</td>\n",
       "      <td>USD</td>\n",
       "      <td>Partial Upfront</td>\n",
       "    </tr>\n",
       "    <tr>\n",
       "      <th>148280</th>\n",
       "      <td>Asia Pacific (Singapore)</td>\n",
       "      <td>Linux</td>\n",
       "      <td>1yr</td>\n",
       "      <td>Quantity</td>\n",
       "      <td>48.0</td>\n",
       "      <td>USD</td>\n",
       "      <td>All Upfront</td>\n",
       "    </tr>\n",
       "  </tbody>\n",
       "</table>\n",
       "</div>"
      ],
      "text/plain": [
       "                        Location Operating System LeaseContractLength  \\\n",
       "26115      Asia Pacific (Mumbai)            Linux                 1yr   \n",
       "113874      Asia Pacific (Seoul)            Linux                 1yr   \n",
       "42007       Asia Pacific (Seoul)            Linux                 1yr   \n",
       "148280  Asia Pacific (Singapore)            Linux                 1yr   \n",
       "\n",
       "            Unit  PricePerUnit Currency   PurchaseOption  \n",
       "26115   Quantity          47.0      USD      All Upfront  \n",
       "113874  Quantity          51.0      USD      All Upfront  \n",
       "42007   Quantity          26.0      USD  Partial Upfront  \n",
       "148280  Quantity          48.0      USD      All Upfront  "
      ]
     },
     "execution_count": 25,
     "metadata": {},
     "output_type": "execute_result"
    }
   ],
   "source": [
    "t2_s[3:7]"
   ]
  },
  {
   "cell_type": "code",
   "execution_count": 26,
   "metadata": {},
   "outputs": [],
   "source": [
    "t2_a = t2_s[t2_s['PurchaseOption'] == \"All Upfront\"]"
   ]
  },
  {
   "cell_type": "code",
   "execution_count": 27,
   "metadata": {},
   "outputs": [
    {
     "data": {
      "text/plain": [
       "(15, 7)"
      ]
     },
     "execution_count": 27,
     "metadata": {},
     "output_type": "execute_result"
    }
   ],
   "source": [
    "t2_a.shape"
   ]
  },
  {
   "cell_type": "code",
   "execution_count": 28,
   "metadata": {},
   "outputs": [
    {
     "data": {
      "text/html": [
       "<div>\n",
       "<style scoped>\n",
       "    .dataframe tbody tr th:only-of-type {\n",
       "        vertical-align: middle;\n",
       "    }\n",
       "\n",
       "    .dataframe tbody tr th {\n",
       "        vertical-align: top;\n",
       "    }\n",
       "\n",
       "    .dataframe thead th {\n",
       "        text-align: right;\n",
       "    }\n",
       "</style>\n",
       "<table border=\"1\" class=\"dataframe\">\n",
       "  <thead>\n",
       "    <tr style=\"text-align: right;\">\n",
       "      <th></th>\n",
       "      <th>Location</th>\n",
       "      <th>Operating System</th>\n",
       "      <th>LeaseContractLength</th>\n",
       "      <th>Unit</th>\n",
       "      <th>PricePerUnit</th>\n",
       "      <th>Currency</th>\n",
       "      <th>PurchaseOption</th>\n",
       "    </tr>\n",
       "  </thead>\n",
       "  <tbody>\n",
       "    <tr>\n",
       "      <th>124313</th>\n",
       "      <td>AWS GovCloud (US)</td>\n",
       "      <td>Linux</td>\n",
       "      <td>1yr</td>\n",
       "      <td>Quantity</td>\n",
       "      <td>39.0</td>\n",
       "      <td>USD</td>\n",
       "      <td>All Upfront</td>\n",
       "    </tr>\n",
       "    <tr>\n",
       "      <th>26115</th>\n",
       "      <td>Asia Pacific (Mumbai)</td>\n",
       "      <td>Linux</td>\n",
       "      <td>1yr</td>\n",
       "      <td>Quantity</td>\n",
       "      <td>47.0</td>\n",
       "      <td>USD</td>\n",
       "      <td>All Upfront</td>\n",
       "    </tr>\n",
       "    <tr>\n",
       "      <th>113874</th>\n",
       "      <td>Asia Pacific (Seoul)</td>\n",
       "      <td>Linux</td>\n",
       "      <td>1yr</td>\n",
       "      <td>Quantity</td>\n",
       "      <td>51.0</td>\n",
       "      <td>USD</td>\n",
       "      <td>All Upfront</td>\n",
       "    </tr>\n",
       "    <tr>\n",
       "      <th>148280</th>\n",
       "      <td>Asia Pacific (Singapore)</td>\n",
       "      <td>Linux</td>\n",
       "      <td>1yr</td>\n",
       "      <td>Quantity</td>\n",
       "      <td>48.0</td>\n",
       "      <td>USD</td>\n",
       "      <td>All Upfront</td>\n",
       "    </tr>\n",
       "    <tr>\n",
       "      <th>148954</th>\n",
       "      <td>Asia Pacific (Sydney)</td>\n",
       "      <td>Linux</td>\n",
       "      <td>1yr</td>\n",
       "      <td>Quantity</td>\n",
       "      <td>52.0</td>\n",
       "      <td>USD</td>\n",
       "      <td>All Upfront</td>\n",
       "    </tr>\n",
       "    <tr>\n",
       "      <th>15792</th>\n",
       "      <td>Asia Pacific (Tokyo)</td>\n",
       "      <td>Linux</td>\n",
       "      <td>1yr</td>\n",
       "      <td>Quantity</td>\n",
       "      <td>51.0</td>\n",
       "      <td>USD</td>\n",
       "      <td>All Upfront</td>\n",
       "    </tr>\n",
       "    <tr>\n",
       "      <th>19919</th>\n",
       "      <td>Canada (Central)</td>\n",
       "      <td>Linux</td>\n",
       "      <td>1yr</td>\n",
       "      <td>Quantity</td>\n",
       "      <td>38.0</td>\n",
       "      <td>USD</td>\n",
       "      <td>All Upfront</td>\n",
       "    </tr>\n",
       "    <tr>\n",
       "      <th>148574</th>\n",
       "      <td>EU (Frankfurt)</td>\n",
       "      <td>Linux</td>\n",
       "      <td>1yr</td>\n",
       "      <td>Quantity</td>\n",
       "      <td>40.0</td>\n",
       "      <td>USD</td>\n",
       "      <td>All Upfront</td>\n",
       "    </tr>\n",
       "    <tr>\n",
       "      <th>67152</th>\n",
       "      <td>EU (Ireland)</td>\n",
       "      <td>Linux</td>\n",
       "      <td>1yr</td>\n",
       "      <td>Quantity</td>\n",
       "      <td>37.0</td>\n",
       "      <td>USD</td>\n",
       "      <td>All Upfront</td>\n",
       "    </tr>\n",
       "    <tr>\n",
       "      <th>5726</th>\n",
       "      <td>EU (London)</td>\n",
       "      <td>Linux</td>\n",
       "      <td>1yr</td>\n",
       "      <td>Quantity</td>\n",
       "      <td>39.0</td>\n",
       "      <td>USD</td>\n",
       "      <td>All Upfront</td>\n",
       "    </tr>\n",
       "    <tr>\n",
       "      <th>141994</th>\n",
       "      <td>South America (Sao Paulo)</td>\n",
       "      <td>Linux</td>\n",
       "      <td>1yr</td>\n",
       "      <td>Quantity</td>\n",
       "      <td>51.0</td>\n",
       "      <td>USD</td>\n",
       "      <td>All Upfront</td>\n",
       "    </tr>\n",
       "    <tr>\n",
       "      <th>50615</th>\n",
       "      <td>US East (N. Virginia)</td>\n",
       "      <td>Linux</td>\n",
       "      <td>1yr</td>\n",
       "      <td>Quantity</td>\n",
       "      <td>34.0</td>\n",
       "      <td>USD</td>\n",
       "      <td>All Upfront</td>\n",
       "    </tr>\n",
       "    <tr>\n",
       "      <th>104335</th>\n",
       "      <td>US East (Ohio)</td>\n",
       "      <td>Linux</td>\n",
       "      <td>1yr</td>\n",
       "      <td>Quantity</td>\n",
       "      <td>34.0</td>\n",
       "      <td>USD</td>\n",
       "      <td>All Upfront</td>\n",
       "    </tr>\n",
       "    <tr>\n",
       "      <th>126658</th>\n",
       "      <td>US West (N. California)</td>\n",
       "      <td>Linux</td>\n",
       "      <td>1yr</td>\n",
       "      <td>Quantity</td>\n",
       "      <td>45.0</td>\n",
       "      <td>USD</td>\n",
       "      <td>All Upfront</td>\n",
       "    </tr>\n",
       "    <tr>\n",
       "      <th>41003</th>\n",
       "      <td>US West (Oregon)</td>\n",
       "      <td>Linux</td>\n",
       "      <td>1yr</td>\n",
       "      <td>Quantity</td>\n",
       "      <td>34.0</td>\n",
       "      <td>USD</td>\n",
       "      <td>All Upfront</td>\n",
       "    </tr>\n",
       "  </tbody>\n",
       "</table>\n",
       "</div>"
      ],
      "text/plain": [
       "                         Location Operating System LeaseContractLength  \\\n",
       "124313          AWS GovCloud (US)            Linux                 1yr   \n",
       "26115       Asia Pacific (Mumbai)            Linux                 1yr   \n",
       "113874       Asia Pacific (Seoul)            Linux                 1yr   \n",
       "148280   Asia Pacific (Singapore)            Linux                 1yr   \n",
       "148954      Asia Pacific (Sydney)            Linux                 1yr   \n",
       "15792        Asia Pacific (Tokyo)            Linux                 1yr   \n",
       "19919            Canada (Central)            Linux                 1yr   \n",
       "148574             EU (Frankfurt)            Linux                 1yr   \n",
       "67152                EU (Ireland)            Linux                 1yr   \n",
       "5726                  EU (London)            Linux                 1yr   \n",
       "141994  South America (Sao Paulo)            Linux                 1yr   \n",
       "50615       US East (N. Virginia)            Linux                 1yr   \n",
       "104335             US East (Ohio)            Linux                 1yr   \n",
       "126658    US West (N. California)            Linux                 1yr   \n",
       "41003            US West (Oregon)            Linux                 1yr   \n",
       "\n",
       "            Unit  PricePerUnit Currency PurchaseOption  \n",
       "124313  Quantity          39.0      USD    All Upfront  \n",
       "26115   Quantity          47.0      USD    All Upfront  \n",
       "113874  Quantity          51.0      USD    All Upfront  \n",
       "148280  Quantity          48.0      USD    All Upfront  \n",
       "148954  Quantity          52.0      USD    All Upfront  \n",
       "15792   Quantity          51.0      USD    All Upfront  \n",
       "19919   Quantity          38.0      USD    All Upfront  \n",
       "148574  Quantity          40.0      USD    All Upfront  \n",
       "67152   Quantity          37.0      USD    All Upfront  \n",
       "5726    Quantity          39.0      USD    All Upfront  \n",
       "141994  Quantity          51.0      USD    All Upfront  \n",
       "50615   Quantity          34.0      USD    All Upfront  \n",
       "104335  Quantity          34.0      USD    All Upfront  \n",
       "126658  Quantity          45.0      USD    All Upfront  \n",
       "41003   Quantity          34.0      USD    All Upfront  "
      ]
     },
     "execution_count": 28,
     "metadata": {},
     "output_type": "execute_result"
    }
   ],
   "source": [
    "t2_a"
   ]
  },
  {
   "cell_type": "code",
   "execution_count": 29,
   "metadata": {},
   "outputs": [],
   "source": [
    "t2_f = t2_a[['Location', 'PricePerUnit']]"
   ]
  },
  {
   "cell_type": "code",
   "execution_count": 30,
   "metadata": {},
   "outputs": [],
   "source": [
    "#t2_f"
   ]
  },
  {
   "cell_type": "code",
   "execution_count": 31,
   "metadata": {},
   "outputs": [],
   "source": [
    "t2_cheap = t2_f.sort_values('PricePerUnit')"
   ]
  },
  {
   "cell_type": "code",
   "execution_count": 32,
   "metadata": {},
   "outputs": [
    {
     "data": {
      "text/html": [
       "<div>\n",
       "<style scoped>\n",
       "    .dataframe tbody tr th:only-of-type {\n",
       "        vertical-align: middle;\n",
       "    }\n",
       "\n",
       "    .dataframe tbody tr th {\n",
       "        vertical-align: top;\n",
       "    }\n",
       "\n",
       "    .dataframe thead th {\n",
       "        text-align: right;\n",
       "    }\n",
       "</style>\n",
       "<table border=\"1\" class=\"dataframe\">\n",
       "  <thead>\n",
       "    <tr style=\"text-align: right;\">\n",
       "      <th></th>\n",
       "      <th>Location</th>\n",
       "      <th>PricePerUnit</th>\n",
       "    </tr>\n",
       "  </thead>\n",
       "  <tbody>\n",
       "    <tr>\n",
       "      <th>50615</th>\n",
       "      <td>US East (N. Virginia)</td>\n",
       "      <td>34.0</td>\n",
       "    </tr>\n",
       "    <tr>\n",
       "      <th>104335</th>\n",
       "      <td>US East (Ohio)</td>\n",
       "      <td>34.0</td>\n",
       "    </tr>\n",
       "    <tr>\n",
       "      <th>41003</th>\n",
       "      <td>US West (Oregon)</td>\n",
       "      <td>34.0</td>\n",
       "    </tr>\n",
       "    <tr>\n",
       "      <th>67152</th>\n",
       "      <td>EU (Ireland)</td>\n",
       "      <td>37.0</td>\n",
       "    </tr>\n",
       "    <tr>\n",
       "      <th>19919</th>\n",
       "      <td>Canada (Central)</td>\n",
       "      <td>38.0</td>\n",
       "    </tr>\n",
       "    <tr>\n",
       "      <th>124313</th>\n",
       "      <td>AWS GovCloud (US)</td>\n",
       "      <td>39.0</td>\n",
       "    </tr>\n",
       "    <tr>\n",
       "      <th>5726</th>\n",
       "      <td>EU (London)</td>\n",
       "      <td>39.0</td>\n",
       "    </tr>\n",
       "    <tr>\n",
       "      <th>148574</th>\n",
       "      <td>EU (Frankfurt)</td>\n",
       "      <td>40.0</td>\n",
       "    </tr>\n",
       "    <tr>\n",
       "      <th>126658</th>\n",
       "      <td>US West (N. California)</td>\n",
       "      <td>45.0</td>\n",
       "    </tr>\n",
       "    <tr>\n",
       "      <th>26115</th>\n",
       "      <td>Asia Pacific (Mumbai)</td>\n",
       "      <td>47.0</td>\n",
       "    </tr>\n",
       "    <tr>\n",
       "      <th>148280</th>\n",
       "      <td>Asia Pacific (Singapore)</td>\n",
       "      <td>48.0</td>\n",
       "    </tr>\n",
       "    <tr>\n",
       "      <th>113874</th>\n",
       "      <td>Asia Pacific (Seoul)</td>\n",
       "      <td>51.0</td>\n",
       "    </tr>\n",
       "    <tr>\n",
       "      <th>15792</th>\n",
       "      <td>Asia Pacific (Tokyo)</td>\n",
       "      <td>51.0</td>\n",
       "    </tr>\n",
       "    <tr>\n",
       "      <th>141994</th>\n",
       "      <td>South America (Sao Paulo)</td>\n",
       "      <td>51.0</td>\n",
       "    </tr>\n",
       "    <tr>\n",
       "      <th>148954</th>\n",
       "      <td>Asia Pacific (Sydney)</td>\n",
       "      <td>52.0</td>\n",
       "    </tr>\n",
       "  </tbody>\n",
       "</table>\n",
       "</div>"
      ],
      "text/plain": [
       "                         Location  PricePerUnit\n",
       "50615       US East (N. Virginia)          34.0\n",
       "104335             US East (Ohio)          34.0\n",
       "41003            US West (Oregon)          34.0\n",
       "67152                EU (Ireland)          37.0\n",
       "19919            Canada (Central)          38.0\n",
       "124313          AWS GovCloud (US)          39.0\n",
       "5726                  EU (London)          39.0\n",
       "148574             EU (Frankfurt)          40.0\n",
       "126658    US West (N. California)          45.0\n",
       "26115       Asia Pacific (Mumbai)          47.0\n",
       "148280   Asia Pacific (Singapore)          48.0\n",
       "113874       Asia Pacific (Seoul)          51.0\n",
       "15792        Asia Pacific (Tokyo)          51.0\n",
       "141994  South America (Sao Paulo)          51.0\n",
       "148954      Asia Pacific (Sydney)          52.0"
      ]
     },
     "execution_count": 32,
     "metadata": {},
     "output_type": "execute_result"
    }
   ],
   "source": [
    "t2_cheap"
   ]
  },
  {
   "cell_type": "code",
   "execution_count": 33,
   "metadata": {},
   "outputs": [
    {
     "data": {
      "text/plain": [
       "<matplotlib.axes._subplots.AxesSubplot at 0x7fa917fd9198>"
      ]
     },
     "execution_count": 33,
     "metadata": {},
     "output_type": "execute_result"
    },
    {
     "data": {
      "image/png": "[encoded data removed]",
      "text/plain": [
       "<matplotlib.figure.Figure at 0x7fa917fc7e10>"
      ]
     },
     "metadata": {},
     "output_type": "display_data"
    }
   ],
   "source": [
    "t2_cheap.plot(kind='bar')"
   ]
  },
  {
   "cell_type": "code",
   "execution_count": 34,
   "metadata": {},
   "outputs": [],
   "source": [
    "#t2_cheap.plot(y='PricePerUnit', kind=\"bar\")"
   ]
  },
  {
   "cell_type": "code",
   "execution_count": 35,
   "metadata": {},
   "outputs": [],
   "source": [
    "#t2_cheap.plot(x='Location', y='PricePerUnit', kind=\"bar\")"
   ]
  },
  {
   "cell_type": "code",
   "execution_count": 36,
   "metadata": {},
   "outputs": [
    {
     "data": {
      "text/plain": [
       "<matplotlib.axes._subplots.AxesSubplot at 0x7fa917fe5320>"
      ]
     },
     "execution_count": 36,
     "metadata": {},
     "output_type": "execute_result"
    },
    {
     "data": {
      "image/png": "[encoded data removed]",
      "text/plain": [
       "<matplotlib.figure.Figure at 0x7fa917fee278>"
      ]
     },
     "metadata": {},
     "output_type": "display_data"
    }
   ],
   "source": [
    "t2_cheap.plot(x='Location', y='PricePerUnit', kind=\"bar\", color='orange')"
   ]
  },
  {
   "cell_type": "code",
   "execution_count": 37,
   "metadata": {},
   "outputs": [],
   "source": [
    "abc = subset.groupby('Location')['Instance Type'].count()"
   ]
  },
  {
   "cell_type": "code",
   "execution_count": 38,
   "metadata": {},
   "outputs": [
    {
     "data": {
      "text/plain": [
       "<matplotlib.axes._subplots.AxesSubplot at 0x7fa917f48940>"
      ]
     },
     "execution_count": 38,
     "metadata": {},
     "output_type": "execute_result"
    },
    {
     "data": {
      "image/png": "[encoded data removed]",
      "text/plain": [
       "<matplotlib.figure.Figure at 0x7fa917f02a20>"
      ]
     },
     "metadata": {},
     "output_type": "display_data"
    }
   ],
   "source": [
    "subset.groupby('Location')['Instance Type'].count().plot(kind='bar')"
   ]
  },
  {
   "cell_type": "code",
   "execution_count": 39,
   "metadata": {},
   "outputs": [
    {
     "data": {
      "text/plain": [
       "Location\n",
       "AWS GovCloud (US)            12183\n",
       "Asia Pacific (Mumbai)         8895\n",
       "Asia Pacific (Seoul)          9115\n",
       "Asia Pacific (Singapore)     12308\n",
       "Asia Pacific (Sydney)        12733\n",
       "Asia Pacific (Tokyo)         13114\n",
       "Canada (Central)              6836\n",
       "EU (Frankfurt)               10755\n",
       "EU (Ireland)                 13609\n",
       "EU (London)                   6866\n",
       "South America (Sao Paulo)    10246\n",
       "US East (N. Virginia)        13730\n",
       "US East (Ohio)                9496\n",
       "US West (N. California)      12208\n",
       "US West (Oregon)             13525\n",
       "Name: Instance Type, dtype: int64"
      ]
     },
     "execution_count": 39,
     "metadata": {},
     "output_type": "execute_result"
    }
   ],
   "source": [
    "abc"
   ]
  },
  {
   "cell_type": "code",
   "execution_count": 40,
   "metadata": {},
   "outputs": [
    {
     "data": {
      "text/plain": [
       "pandas.core.series.Series"
      ]
     },
     "execution_count": 40,
     "metadata": {},
     "output_type": "execute_result"
    }
   ],
   "source": [
    "type(abc)"
   ]
  },
  {
   "cell_type": "code",
   "execution_count": 41,
   "metadata": {},
   "outputs": [
    {
     "data": {
      "text/plain": [
       "['T',\n",
       " '_AXIS_ALIASES',\n",
       " '_AXIS_IALIASES',\n",
       " '_AXIS_LEN',\n",
       " '_AXIS_NAMES',\n",
       " '_AXIS_NUMBERS',\n",
       " '_AXIS_ORDERS',\n",
       " '_AXIS_REVERSED',\n",
       " '_AXIS_SLICEMAP',\n",
       " '__abs__',\n",
       " '__add__',\n",
       " '__and__',\n",
       " '__array__',\n",
       " '__array_prepare__',\n",
       " '__array_priority__',\n",
       " '__array_wrap__',\n",
       " '__bool__',\n",
       " '__bytes__',\n",
       " '__class__',\n",
       " '__contains__',\n",
       " '__copy__',\n",
       " '__deepcopy__',\n",
       " '__delattr__',\n",
       " '__delitem__',\n",
       " '__dict__',\n",
       " '__dir__',\n",
       " '__div__',\n",
       " '__divmod__',\n",
       " '__doc__',\n",
       " '__eq__',\n",
       " '__finalize__',\n",
       " '__float__',\n",
       " '__floordiv__',\n",
       " '__format__',\n",
       " '__ge__',\n",
       " '__getattr__',\n",
       " '__getattribute__',\n",
       " '__getitem__',\n",
       " '__getstate__',\n",
       " '__gt__',\n",
       " '__hash__',\n",
       " '__iadd__',\n",
       " '__iand__',\n",
       " '__ifloordiv__',\n",
       " '__imod__',\n",
       " '__imul__',\n",
       " '__init__',\n",
       " '__int__',\n",
       " '__invert__',\n",
       " '__ior__',\n",
       " '__ipow__',\n",
       " '__isub__',\n",
       " '__iter__',\n",
       " '__itruediv__',\n",
       " '__ixor__',\n",
       " '__le__',\n",
       " '__len__',\n",
       " '__long__',\n",
       " '__lt__',\n",
       " '__mod__',\n",
       " '__module__',\n",
       " '__mul__',\n",
       " '__ne__',\n",
       " '__neg__',\n",
       " '__new__',\n",
       " '__nonzero__',\n",
       " '__or__',\n",
       " '__pow__',\n",
       " '__radd__',\n",
       " '__rand__',\n",
       " '__rdiv__',\n",
       " '__reduce__',\n",
       " '__reduce_ex__',\n",
       " '__repr__',\n",
       " '__rfloordiv__',\n",
       " '__rmod__',\n",
       " '__rmul__',\n",
       " '__ror__',\n",
       " '__round__',\n",
       " '__rpow__',\n",
       " '__rsub__',\n",
       " '__rtruediv__',\n",
       " '__rxor__',\n",
       " '__setattr__',\n",
       " '__setitem__',\n",
       " '__setstate__',\n",
       " '__sizeof__',\n",
       " '__str__',\n",
       " '__sub__',\n",
       " '__subclasshook__',\n",
       " '__truediv__',\n",
       " '__unicode__',\n",
       " '__weakref__',\n",
       " '__xor__',\n",
       " '_accessors',\n",
       " '_add_numeric_operations',\n",
       " '_add_series_only_operations',\n",
       " '_add_series_or_dataframe_operations',\n",
       " '_agg_by_level',\n",
       " '_agg_doc',\n",
       " '_aggregate',\n",
       " '_aggregate_multiple_funcs',\n",
       " '_align_frame',\n",
       " '_align_series',\n",
       " '_allow_index_ops',\n",
       " '_at',\n",
       " '_binop',\n",
       " '_box_item_values',\n",
       " '_builtin_table',\n",
       " '_can_hold_na',\n",
       " '_check_inplace_setting',\n",
       " '_check_is_chained_assignment_possible',\n",
       " '_check_percentile',\n",
       " '_check_setitem_copy',\n",
       " '_clear_item_cache',\n",
       " '_clip_with_one_bound',\n",
       " '_clip_with_scalar',\n",
       " '_consolidate',\n",
       " '_consolidate_inplace',\n",
       " '_construct_axes_dict',\n",
       " '_construct_axes_dict_for_slice',\n",
       " '_construct_axes_dict_from',\n",
       " '_construct_axes_from_arguments',\n",
       " '_constructor',\n",
       " '_constructor_expanddim',\n",
       " '_constructor_sliced',\n",
       " '_convert',\n",
       " '_create_indexer',\n",
       " '_cython_table',\n",
       " '_deprecations',\n",
       " '_dir_additions',\n",
       " '_dir_deletions',\n",
       " '_drop_axis',\n",
       " '_expand_axes',\n",
       " '_formatting_values',\n",
       " '_from_axes',\n",
       " '_get_axis',\n",
       " '_get_axis_name',\n",
       " '_get_axis_number',\n",
       " '_get_axis_resolvers',\n",
       " '_get_block_manager_axis',\n",
       " '_get_bool_data',\n",
       " '_get_cacher',\n",
       " '_get_index_resolvers',\n",
       " '_get_item_cache',\n",
       " '_get_numeric_data',\n",
       " '_get_value',\n",
       " '_get_values',\n",
       " '_get_values_tuple',\n",
       " '_get_with',\n",
       " '_gotitem',\n",
       " '_iat',\n",
       " '_iget_item_cache',\n",
       " '_iloc',\n",
       " '_index',\n",
       " '_indexed_same',\n",
       " '_info_axis',\n",
       " '_info_axis_name',\n",
       " '_info_axis_number',\n",
       " '_init_mgr',\n",
       " '_internal_names',\n",
       " '_internal_names_set',\n",
       " '_is_builtin_func',\n",
       " '_is_cached',\n",
       " '_is_cython_func',\n",
       " '_is_datelike_mixed_type',\n",
       " '_is_mixed_type',\n",
       " '_is_numeric_mixed_type',\n",
       " '_is_view',\n",
       " '_ix',\n",
       " '_ixs',\n",
       " '_loc',\n",
       " '_maybe_cache_changed',\n",
       " '_maybe_update_cacher',\n",
       " '_metadata',\n",
       " '_needs_reindex_multi',\n",
       " '_obj_with_exclusions',\n",
       " '_protect_consolidate',\n",
       " '_reduce',\n",
       " '_reindex_axes',\n",
       " '_reindex_axis',\n",
       " '_reindex_indexer',\n",
       " '_reindex_multi',\n",
       " '_reindex_with_indexers',\n",
       " '_repr_data_resource_',\n",
       " '_repr_latex_',\n",
       " '_reset_cache',\n",
       " '_reset_cacher',\n",
       " '_selected_obj',\n",
       " '_selection',\n",
       " '_selection_list',\n",
       " '_selection_name',\n",
       " '_set_as_cached',\n",
       " '_set_axis',\n",
       " '_set_axis_name',\n",
       " '_set_is_copy',\n",
       " '_set_item',\n",
       " '_set_labels',\n",
       " '_set_name',\n",
       " '_set_subtyp',\n",
       " '_set_value',\n",
       " '_set_values',\n",
       " '_set_with',\n",
       " '_set_with_engine',\n",
       " '_setup_axes',\n",
       " '_shallow_copy',\n",
       " '_slice',\n",
       " '_stat_axis',\n",
       " '_stat_axis_name',\n",
       " '_stat_axis_number',\n",
       " '_take',\n",
       " '_to_dict_of_blocks',\n",
       " '_try_aggregate_string_function',\n",
       " '_typ',\n",
       " '_unpickle_series_compat',\n",
       " '_update_inplace',\n",
       " '_validate_dtype',\n",
       " '_values',\n",
       " '_where',\n",
       " '_xs',\n",
       " 'abs',\n",
       " 'add',\n",
       " 'add_prefix',\n",
       " 'add_suffix',\n",
       " 'agg',\n",
       " 'aggregate',\n",
       " 'align',\n",
       " 'all',\n",
       " 'any',\n",
       " 'append',\n",
       " 'apply',\n",
       " 'argmax',\n",
       " 'argmin',\n",
       " 'argsort',\n",
       " 'as_matrix',\n",
       " 'asfreq',\n",
       " 'asobject',\n",
       " 'asof',\n",
       " 'astype',\n",
       " 'at',\n",
       " 'at_time',\n",
       " 'autocorr',\n",
       " 'axes',\n",
       " 'base',\n",
       " 'between',\n",
       " 'between_time',\n",
       " 'bfill',\n",
       " 'bool',\n",
       " 'clip',\n",
       " 'clip_lower',\n",
       " 'clip_upper',\n",
       " 'combine',\n",
       " 'combine_first',\n",
       " 'compound',\n",
       " 'compress',\n",
       " 'copy',\n",
       " 'corr',\n",
       " 'count',\n",
       " 'cov',\n",
       " 'cummax',\n",
       " 'cummin',\n",
       " 'cumprod',\n",
       " 'cumsum',\n",
       " 'data',\n",
       " 'describe',\n",
       " 'diff',\n",
       " 'div',\n",
       " 'divide',\n",
       " 'dot',\n",
       " 'drop',\n",
       " 'drop_duplicates',\n",
       " 'dropna',\n",
       " 'dtype',\n",
       " 'dtypes',\n",
       " 'duplicated',\n",
       " 'empty',\n",
       " 'eq',\n",
       " 'equals',\n",
       " 'ewm',\n",
       " 'expanding',\n",
       " 'factorize',\n",
       " 'ffill',\n",
       " 'fillna',\n",
       " 'filter',\n",
       " 'first',\n",
       " 'first_valid_index',\n",
       " 'flags',\n",
       " 'floordiv',\n",
       " 'from_array',\n",
       " 'ftype',\n",
       " 'ftypes',\n",
       " 'ge',\n",
       " 'get',\n",
       " 'get_dtype_counts',\n",
       " 'get_ftype_counts',\n",
       " 'get_values',\n",
       " 'groupby',\n",
       " 'gt',\n",
       " 'hasnans',\n",
       " 'head',\n",
       " 'hist',\n",
       " 'iat',\n",
       " 'idxmax',\n",
       " 'idxmin',\n",
       " 'iloc',\n",
       " 'imag',\n",
       " 'index',\n",
       " 'infer_objects',\n",
       " 'interpolate',\n",
       " 'is_copy',\n",
       " 'is_monotonic',\n",
       " 'is_monotonic_decreasing',\n",
       " 'is_monotonic_increasing',\n",
       " 'is_unique',\n",
       " 'isin',\n",
       " 'isna',\n",
       " 'isnull',\n",
       " 'item',\n",
       " 'items',\n",
       " 'itemsize',\n",
       " 'iteritems',\n",
       " 'ix',\n",
       " 'keys',\n",
       " 'kurt',\n",
       " 'kurtosis',\n",
       " 'last',\n",
       " 'last_valid_index',\n",
       " 'le',\n",
       " 'loc',\n",
       " 'lt',\n",
       " 'mad',\n",
       " 'map',\n",
       " 'mask',\n",
       " 'max',\n",
       " 'mean',\n",
       " 'median',\n",
       " 'memory_usage',\n",
       " 'min',\n",
       " 'mod',\n",
       " 'mode',\n",
       " 'mul',\n",
       " 'multiply',\n",
       " 'name',\n",
       " 'nbytes',\n",
       " 'ndim',\n",
       " 'ne',\n",
       " 'nlargest',\n",
       " 'nonzero',\n",
       " 'notna',\n",
       " 'notnull',\n",
       " 'nsmallest',\n",
       " 'nunique',\n",
       " 'pct_change',\n",
       " 'pipe',\n",
       " 'plot',\n",
       " 'pop',\n",
       " 'pow',\n",
       " 'prod',\n",
       " 'product',\n",
       " 'ptp',\n",
       " 'put',\n",
       " 'quantile',\n",
       " 'radd',\n",
       " 'rank',\n",
       " 'ravel',\n",
       " 'rdiv',\n",
       " 'real',\n",
       " 'reindex',\n",
       " 'reindex_axis',\n",
       " 'reindex_like',\n",
       " 'rename',\n",
       " 'rename_axis',\n",
       " 'reorder_levels',\n",
       " 'repeat',\n",
       " 'replace',\n",
       " 'resample',\n",
       " 'reset_index',\n",
       " 'rfloordiv',\n",
       " 'rmod',\n",
       " 'rmul',\n",
       " 'rolling',\n",
       " 'round',\n",
       " 'rpow',\n",
       " 'rsub',\n",
       " 'rtruediv',\n",
       " 'sample',\n",
       " 'searchsorted',\n",
       " 'select',\n",
       " 'sem',\n",
       " 'set_axis',\n",
       " 'shape',\n",
       " 'shift',\n",
       " 'size',\n",
       " 'skew',\n",
       " 'slice_shift',\n",
       " 'sort_index',\n",
       " 'sort_values',\n",
       " 'squeeze',\n",
       " 'std',\n",
       " 'strides',\n",
       " 'sub',\n",
       " 'subtract',\n",
       " 'sum',\n",
       " 'swapaxes',\n",
       " 'swaplevel',\n",
       " 'tail',\n",
       " 'take',\n",
       " 'to_clipboard',\n",
       " 'to_csv',\n",
       " 'to_dense',\n",
       " 'to_dict',\n",
       " 'to_excel',\n",
       " 'to_frame',\n",
       " 'to_hdf',\n",
       " 'to_json',\n",
       " 'to_latex',\n",
       " 'to_msgpack',\n",
       " 'to_period',\n",
       " 'to_pickle',\n",
       " 'to_sparse',\n",
       " 'to_sql',\n",
       " 'to_string',\n",
       " 'to_timestamp',\n",
       " 'to_xarray',\n",
       " 'tolist',\n",
       " 'transform',\n",
       " 'transpose',\n",
       " 'truediv',\n",
       " 'truncate',\n",
       " 'tshift',\n",
       " 'tz_convert',\n",
       " 'tz_localize',\n",
       " 'unique',\n",
       " 'unstack',\n",
       " 'update',\n",
       " 'valid',\n",
       " 'value_counts',\n",
       " 'values',\n",
       " 'var',\n",
       " 'view',\n",
       " 'where',\n",
       " 'xs']"
      ]
     },
     "execution_count": 41,
     "metadata": {},
     "output_type": "execute_result"
    }
   ],
   "source": [
    "dir(abc)"
   ]
  },
  {
   "cell_type": "code",
   "execution_count": 42,
   "metadata": {},
   "outputs": [
    {
     "data": {
      "text/plain": [
       "<bound method Series.all of Location\n",
       "AWS GovCloud (US)            12183\n",
       "Asia Pacific (Mumbai)         8895\n",
       "Asia Pacific (Seoul)          9115\n",
       "Asia Pacific (Singapore)     12308\n",
       "Asia Pacific (Sydney)        12733\n",
       "Asia Pacific (Tokyo)         13114\n",
       "Canada (Central)              6836\n",
       "EU (Frankfurt)               10755\n",
       "EU (Ireland)                 13609\n",
       "EU (London)                   6866\n",
       "South America (Sao Paulo)    10246\n",
       "US East (N. Virginia)        13730\n",
       "US East (Ohio)                9496\n",
       "US West (N. California)      12208\n",
       "US West (Oregon)             13525\n",
       "Name: Instance Type, dtype: int64>"
      ]
     },
     "execution_count": 42,
     "metadata": {},
     "output_type": "execute_result"
    }
   ],
   "source": [
    "abc.all"
   ]
  },
  {
   "cell_type": "code",
   "execution_count": 43,
   "metadata": {},
   "outputs": [
    {
     "data": {
      "text/plain": [
       "6836"
      ]
     },
     "execution_count": 43,
     "metadata": {},
     "output_type": "execute_result"
    }
   ],
   "source": [
    "abc.min()"
   ]
  },
  {
   "cell_type": "code",
   "execution_count": 44,
   "metadata": {},
   "outputs": [
    {
     "data": {
      "text/plain": [
       "13730"
      ]
     },
     "execution_count": 44,
     "metadata": {},
     "output_type": "execute_result"
    }
   ],
   "source": [
    "abc.max()"
   ]
  },
  {
   "cell_type": "code",
   "execution_count": 45,
   "metadata": {},
   "outputs": [
    {
     "data": {
      "text/plain": [
       "Location\n",
       "AWS GovCloud (US)            12183\n",
       "Asia Pacific (Mumbai)         8895\n",
       "Asia Pacific (Seoul)          9115\n",
       "Asia Pacific (Singapore)     12308\n",
       "Asia Pacific (Sydney)        12733\n",
       "Asia Pacific (Tokyo)         13114\n",
       "Canada (Central)              6836\n",
       "EU (Frankfurt)               10755\n",
       "EU (Ireland)                 13609\n",
       "EU (London)                   6866\n",
       "South America (Sao Paulo)    10246\n",
       "US East (N. Virginia)        13730\n",
       "US East (Ohio)                9496\n",
       "US West (N. California)      12208\n",
       "US West (Oregon)             13525\n",
       "Name: Instance Type, dtype: int64"
      ]
     },
     "execution_count": 45,
     "metadata": {},
     "output_type": "execute_result"
    }
   ],
   "source": [
    "abc"
   ]
  },
  {
   "cell_type": "code",
   "execution_count": 46,
   "metadata": {},
   "outputs": [],
   "source": [
    "plot_data = abc.sort_values()"
   ]
  },
  {
   "cell_type": "code",
   "execution_count": 47,
   "metadata": {},
   "outputs": [
    {
     "data": {
      "text/plain": [
       "Location\n",
       "Canada (Central)              6836\n",
       "EU (London)                   6866\n",
       "Asia Pacific (Mumbai)         8895\n",
       "Asia Pacific (Seoul)          9115\n",
       "US East (Ohio)                9496\n",
       "South America (Sao Paulo)    10246\n",
       "EU (Frankfurt)               10755\n",
       "AWS GovCloud (US)            12183\n",
       "US West (N. California)      12208\n",
       "Asia Pacific (Singapore)     12308\n",
       "Asia Pacific (Sydney)        12733\n",
       "Asia Pacific (Tokyo)         13114\n",
       "US West (Oregon)             13525\n",
       "EU (Ireland)                 13609\n",
       "US East (N. Virginia)        13730\n",
       "Name: Instance Type, dtype: int64"
      ]
     },
     "execution_count": 47,
     "metadata": {},
     "output_type": "execute_result"
    }
   ],
   "source": [
    "plot_data"
   ]
  },
  {
   "cell_type": "code",
   "execution_count": 48,
   "metadata": {},
   "outputs": [
    {
     "name": "stdout",
     "output_type": "stream",
     "text": [
      "Mon Jul 30 10:50:13 CDT 2018\r\n"
     ]
    }
   ],
   "source": [
    "!date"
   ]
  },
  {
   "cell_type": "code",
   "execution_count": 49,
   "metadata": {
    "scrolled": true
   },
   "outputs": [
    {
     "data": {
      "text/plain": [
       "<matplotlib.axes._subplots.AxesSubplot at 0x7fa917e7e198>"
      ]
     },
     "execution_count": 49,
     "metadata": {},
     "output_type": "execute_result"
    },
    {
     "data": {
      "image/png": "[encoded data removed]",
      "text/plain": [
       "<matplotlib.figure.Figure at 0x7fa917ee8438>"
      ]
     },
     "metadata": {},
     "output_type": "display_data"
    }
   ],
   "source": [
    "plot_data.plot(kind='bar')"
   ]
  },
  {
   "cell_type": "code",
   "execution_count": 50,
   "metadata": {},
   "outputs": [],
   "source": [
    "oregon=subset[subset['Location'] == \"US West (Oregon)\"]"
   ]
  },
  {
   "cell_type": "code",
   "execution_count": 51,
   "metadata": {},
   "outputs": [
    {
     "data": {
      "text/plain": [
       "(13547, 13)"
      ]
     },
     "execution_count": 51,
     "metadata": {},
     "output_type": "execute_result"
    }
   ],
   "source": [
    "oregon.shape"
   ]
  },
  {
   "cell_type": "code",
   "execution_count": 52,
   "metadata": {},
   "outputs": [
    {
     "data": {
      "text/plain": [
       "7      US West (Oregon)\n",
       "37     US West (Oregon)\n",
       "39     US West (Oregon)\n",
       "44     US West (Oregon)\n",
       "58     US West (Oregon)\n",
       "64     US West (Oregon)\n",
       "89     US West (Oregon)\n",
       "93     US West (Oregon)\n",
       "97     US West (Oregon)\n",
       "166    US West (Oregon)\n",
       "Name: Location, dtype: object"
      ]
     },
     "execution_count": 52,
     "metadata": {},
     "output_type": "execute_result"
    }
   ],
   "source": [
    "oregon['Location'].head(10)"
   ]
  },
  {
   "cell_type": "code",
   "execution_count": 53,
   "metadata": {},
   "outputs": [
    {
     "data": {
      "text/plain": [
       "7       c4.xlarge\n",
       "37       t2.micro\n",
       "39     c3.2xlarge\n",
       "44     m2.4xlarge\n",
       "58     c4.4xlarge\n",
       "64       r3.large\n",
       "89     c4.4xlarge\n",
       "93     r3.8xlarge\n",
       "97     d2.4xlarge\n",
       "166    g2.2xlarge\n",
       "Name: Instance Type, dtype: object"
      ]
     },
     "execution_count": 53,
     "metadata": {},
     "output_type": "execute_result"
    }
   ],
   "source": [
    "oregon['Instance Type'].head(10)"
   ]
  },
  {
   "cell_type": "code",
   "execution_count": 54,
   "metadata": {},
   "outputs": [
    {
     "name": "stdout",
     "output_type": "stream",
     "text": [
      "t2.micro\n",
      "t2.micro\n",
      "t2.micro\n",
      "t2.micro\n",
      "t1.micro\n",
      "t2.micro\n",
      "t2.micro\n",
      "t2.micro\n",
      "t2.micro\n",
      "t2.micro\n",
      "t2.micro\n",
      "t2.micro\n",
      "t2.micro\n",
      "t2.micro\n",
      "t1.micro\n",
      "t2.micro\n",
      "t2.micro\n",
      "t2.micro\n",
      "t1.micro\n",
      "t2.micro\n",
      "t2.micro\n",
      "t1.micro\n",
      "t1.micro\n",
      "t2.micro\n",
      "t1.micro\n",
      "t2.micro\n",
      "t2.micro\n",
      "t1.micro\n",
      "t1.micro\n",
      "t1.micro\n",
      "t2.micro\n",
      "t2.micro\n",
      "t1.micro\n",
      "t1.micro\n",
      "t2.micro\n",
      "t2.micro\n",
      "t1.micro\n",
      "t1.micro\n",
      "t2.micro\n",
      "t1.micro\n",
      "t2.micro\n",
      "t2.micro\n",
      "t2.micro\n",
      "t2.micro\n",
      "t2.micro\n",
      "t2.micro\n",
      "t1.micro\n",
      "t2.micro\n",
      "t1.micro\n",
      "t1.micro\n",
      "t1.micro\n",
      "t1.micro\n",
      "t1.micro\n",
      "t2.micro\n",
      "t1.micro\n",
      "t2.micro\n",
      "t1.micro\n",
      "t2.micro\n",
      "t1.micro\n",
      "t2.micro\n",
      "t1.micro\n",
      "t2.micro\n",
      "t1.micro\n",
      "t2.micro\n",
      "t2.micro\n",
      "t1.micro\n",
      "t2.micro\n",
      "t2.micro\n",
      "t1.micro\n",
      "t2.micro\n",
      "t2.micro\n",
      "t2.micro\n",
      "t1.micro\n",
      "t2.micro\n",
      "t1.micro\n",
      "t2.micro\n",
      "t2.micro\n",
      "t2.micro\n",
      "t1.micro\n",
      "t1.micro\n",
      "t1.micro\n",
      "t1.micro\n",
      "t2.micro\n",
      "t2.micro\n",
      "t2.micro\n",
      "t1.micro\n",
      "t1.micro\n",
      "t1.micro\n",
      "t2.micro\n",
      "t1.micro\n",
      "t2.micro\n",
      "t1.micro\n",
      "t2.micro\n",
      "t1.micro\n",
      "t2.micro\n",
      "t2.micro\n",
      "t2.micro\n",
      "t2.micro\n",
      "t2.micro\n",
      "t1.micro\n",
      "t1.micro\n",
      "t1.micro\n",
      "t2.micro\n",
      "t2.micro\n",
      "t2.micro\n",
      "t1.micro\n",
      "t2.micro\n",
      "t2.micro\n",
      "t2.micro\n",
      "t2.micro\n",
      "t1.micro\n",
      "t2.micro\n",
      "t1.micro\n",
      "t2.micro\n",
      "t2.micro\n",
      "t2.micro\n",
      "t2.micro\n",
      "t1.micro\n",
      "t1.micro\n",
      "t2.micro\n",
      "t1.micro\n",
      "t2.micro\n",
      "t1.micro\n",
      "t2.micro\n",
      "t2.micro\n",
      "t2.micro\n",
      "t2.micro\n",
      "t1.micro\n",
      "t2.micro\n",
      "t1.micro\n",
      "t2.micro\n",
      "t2.micro\n"
     ]
    }
   ],
   "source": [
    "location_flavor_list = oregon['Instance Type']\n",
    "for flav in location_flavor_list:\n",
    "    flavstr = str(flav)\n",
    "    if 'micro' in flavstr:\n",
    "        print(flav)"
   ]
  },
  {
   "cell_type": "markdown",
   "metadata": {},
   "source": [
    "# Why more than one t2.micro in oregon\n",
    "\n",
    "- OS?\n",
    "- Lease vs. Buy etc\n",
    "\n",
    "> why the code below; why the extra step ?\n",
    "\n",
    "``` flavstr = str(flav) ```"
   ]
  },
  {
   "cell_type": "code",
   "execution_count": 55,
   "metadata": {},
   "outputs": [
    {
     "data": {
      "text/plain": [
       "7           c4.xlarge\n",
       "37           t2.micro\n",
       "39         c3.2xlarge\n",
       "44         m2.4xlarge\n",
       "58         c4.4xlarge\n",
       "64           r3.large\n",
       "89         c4.4xlarge\n",
       "93         r3.8xlarge\n",
       "97         d2.4xlarge\n",
       "166        g2.2xlarge\n",
       "169       g3.16xlarge\n",
       "185         i3.xlarge\n",
       "189        r4.8xlarge\n",
       "195       x1.16xlarge\n",
       "197        r4.4xlarge\n",
       "235          c3.large\n",
       "243          c3.large\n",
       "264         i3.xlarge\n",
       "268          i3.large\n",
       "313        i2.4xlarge\n",
       "320         i2.xlarge\n",
       "331         c3.xlarge\n",
       "344         i3.xlarge\n",
       "357        m2.2xlarge\n",
       "379        c4.8xlarge\n",
       "446        m3.2xlarge\n",
       "447        i3.4xlarge\n",
       "449       hi1.4xlarge\n",
       "465        m2.2xlarge\n",
       "516          m3.large\n",
       "             ...     \n",
       "166030     m3.2xlarge\n",
       "166036      m3.xlarge\n",
       "166052     c3.8xlarge\n",
       "166067    r4.16xlarge\n",
       "166111     r3.8xlarge\n",
       "166116     c4.2xlarge\n",
       "166122     c3.2xlarge\n",
       "166128    m4.10xlarge\n",
       "166133    i3.16xlarge\n",
       "166194    p2.16xlarge\n",
       "166221     m4.2xlarge\n",
       "166241     r4.4xlarge\n",
       "166274     c4.8xlarge\n",
       "166278     m2.4xlarge\n",
       "166285     m4.2xlarge\n",
       "166299      c4.xlarge\n",
       "166310     m4.2xlarge\n",
       "166311     p2.8xlarge\n",
       "166345       c4.large\n",
       "166366     i3.4xlarge\n",
       "166369    cc2.8xlarge\n",
       "166398    hs1.8xlarge\n",
       "166409       m3.large\n",
       "166420    i3.16xlarge\n",
       "166435       c4.large\n",
       "166449      r4.xlarge\n",
       "166477      m3.xlarge\n",
       "166478    hi1.4xlarge\n",
       "166487     m3.2xlarge\n",
       "166498    g3.16xlarge\n",
       "Name: Instance Type, Length: 13547, dtype: object"
      ]
     },
     "execution_count": 55,
     "metadata": {},
     "output_type": "execute_result"
    }
   ],
   "source": [
    "location_flavor_list"
   ]
  },
  {
   "cell_type": "code",
   "execution_count": 56,
   "metadata": {},
   "outputs": [
    {
     "name": "stdout",
     "output_type": "stream",
     "text": [
      "awsLink/opt/ga-aws-butzer/python/amazonOverwhelm/amazonPricelistAnalysis.py\r\n"
     ]
    }
   ],
   "source": [
    "! ls awsLink/opt/ga-aws-butzer/python/amazonOverwhelm/amazonPricelistAnalysis.py"
   ]
  },
  {
   "cell_type": "code",
   "execution_count": 57,
   "metadata": {},
   "outputs": [
    {
     "name": "stdout",
     "output_type": "stream",
     "text": [
      "sys:1: DtypeWarning: Columns (28,29,30,31,32,33,34,36,48) have mixed types. Specify dtype option on import or set low_memory=False.\n",
      "(166505, 13)\n",
      "t2.nano\n",
      "_______________________________________________________________\n",
      "PICK is t2.nano\n",
      "TABLE is                           Location  PricePerUnit\n",
      "50615       US East (N. Virginia)          34.0\n",
      "104335             US East (Ohio)          34.0\n",
      "41003            US West (Oregon)          34.0\n",
      "67152                EU (Ireland)          37.0\n",
      "19919            Canada (Central)          38.0\n",
      "124313          AWS GovCloud (US)          39.0\n",
      "5726                  EU (London)          39.0\n",
      "148574             EU (Frankfurt)          40.0\n",
      "126658    US West (N. California)          45.0\n",
      "26115       Asia Pacific (Mumbai)          47.0\n",
      "148280   Asia Pacific (Singapore)          48.0\n",
      "113874       Asia Pacific (Seoul)          51.0\n",
      "15792        Asia Pacific (Tokyo)          51.0\n",
      "141994  South America (Sao Paulo)          51.0\n",
      "148954      Asia Pacific (Sydney)          52.0\n",
      "t2.micro\n",
      "_______________________________________________________________\n",
      "PICK is t2.micro\n",
      "TABLE is                           Location  PricePerUnit\n",
      "165681      US East (N. Virginia)          69.0\n",
      "25931              US East (Ohio)          69.0\n",
      "150999           US West (Oregon)          69.0\n",
      "36658            Canada (Central)          75.0\n",
      "44215           AWS GovCloud (US)          77.0\n",
      "26890              EU (Frankfurt)          77.0\n",
      "163306               EU (Ireland)          77.0\n",
      "39906                 EU (London)          77.0\n",
      "81157       Asia Pacific (Mumbai)          94.0\n",
      "79403    Asia Pacific (Singapore)          94.0\n",
      "20910     US West (N. California)          94.0\n",
      "2666         Asia Pacific (Seoul)         103.0\n",
      "86136       Asia Pacific (Sydney)         103.0\n",
      "61882        Asia Pacific (Tokyo)         103.0\n",
      "59790   South America (Sao Paulo)         103.0\n",
      "t2.small\n",
      "_______________________________________________________________\n",
      "PICK is t2.small\n",
      "TABLE is                           Location  PricePerUnit\n",
      "138258      US East (N. Virginia)         137.0\n",
      "23924              US East (Ohio)         137.0\n",
      "55613            US West (Oregon)         137.0\n",
      "114370               EU (Ireland)         146.0\n",
      "44175            Canada (Central)         155.0\n",
      "673                   EU (London)         155.0\n",
      "147468          AWS GovCloud (US)         163.0\n",
      "146709             EU (Frankfurt)         163.0\n",
      "146778    US West (N. California)         180.0\n",
      "13451       Asia Pacific (Mumbai)         197.0\n",
      "13015    Asia Pacific (Singapore)         197.0\n",
      "81634        Asia Pacific (Seoul)         206.0\n",
      "92684       Asia Pacific (Sydney)         206.0\n",
      "125928       Asia Pacific (Tokyo)         206.0\n",
      "124082  South America (Sao Paulo)         206.0\n",
      "t2.large\n",
      "_______________________________________________________________\n",
      "PICK is t2.large\n",
      "TABLE is                           Location  PricePerUnit\n",
      "143997      US East (N. Virginia)         549.0\n",
      "148961             US East (Ohio)         549.0\n",
      "160871           US West (Oregon)         549.0\n",
      "64909                EU (Ireland)         584.0\n",
      "145315           Canada (Central)         600.0\n",
      "39658                 EU (London)         617.0\n",
      "28799              EU (Frankfurt)         635.0\n",
      "123615          AWS GovCloud (US)         644.0\n",
      "147403    US West (N. California)         730.0\n",
      "22274       Asia Pacific (Mumbai)         764.0\n",
      "55136    Asia Pacific (Singapore)         773.0\n",
      "46226        Asia Pacific (Seoul)         807.0\n",
      "103418       Asia Pacific (Tokyo)         807.0\n",
      "9466    South America (Sao Paulo)         816.0\n",
      "129973      Asia Pacific (Sydney)         824.0\n"
     ]
    }
   ],
   "source": [
    "!python awsLink/opt/ga-aws-butzer/python/amazonOverwhelm/amazonPricelistAnalysis.py"
   ]
  },
  {
   "cell_type": "code",
   "execution_count": 58,
   "metadata": {},
   "outputs": [
    {
     "name": "stdout",
     "output_type": "stream",
     "text": [
      "import pandas\r\n",
      "\r\n",
      "df = pandas.read_csv('/home/butzer/workCopy.csv', sep=',')\r\n",
      "\r\n",
      "n1 =  df.columns\r\n",
      "\r\n",
      "subset = df[['Location', 'Instance Type', 'vCPU', 'Operating System', 'Instance Family', 'Tenancy', 'Memory', 'LeaseContractLength', 'Unit', 'PricePerUnit', 'TermType', 'Currency', 'PurchaseOption']] # subset multiple columns\r\n",
      "\r\n",
      "print (subset.shape)\r\n",
      "\r\n",
      "subset['Tenancy'].value_counts()\r\n",
      "\r\n",
      "#pick_type = \"t2.nano\"\r\n",
      "#pick_type = \"t2.micro\"\r\n",
      "#pick_type = \"t2.small\"\r\n",
      "pick_type = \"t2.large\"\r\n",
      "\r\n",
      "pick_list = ['t2.nano', 't2.micro', 't2.small', 't2.large']\r\n",
      "\r\n",
      "for pick in pick_list:\r\n",
      "  print(pick)\r\n",
      "  pick_type=pick\r\n",
      "\r\n",
      "  print (\"_______________________________________________________________\")\r\n",
      "  print (\"PICK is\", pick_type)\r\n",
      "  t2_nano=subset[subset['Instance Type'] == pick_type]\r\n",
      "\r\n",
      "  t2_nano[:6]\r\n",
      "\r\n",
      "  t2_nano.columns\r\n",
      "\r\n",
      "  t2_nano_jr = t2_nano[['Location', 'Operating System', 'LeaseContractLength', 'Unit', 'PricePerUnit', 'Currency','PurchaseOption']]\r\n",
      "\r\n",
      "  t2_nano_1yr=t2_nano_jr[t2_nano_jr['LeaseContractLength'] == \"1yr\"]\r\n",
      "\r\n",
      "  t2_nano_1yr_linux=t2_nano_1yr[t2_nano_1yr['Operating System'] == \"Linux\"]\r\n",
      "\r\n",
      "  t2_nano_tony=t2_nano_1yr_linux[t2_nano_1yr_linux['Unit'] == \"Quantity\"]\r\n",
      "\r\n",
      "  t2_s = t2_nano_tony.sort_values('Location')\r\n",
      "\r\n",
      "  t2_a = t2_s[t2_s['PurchaseOption'] == \"All Upfront\"]\r\n",
      "\r\n",
      "  t2_f = t2_a[['Location', 'PricePerUnit']]\r\n",
      "\r\n",
      "  t2_cheap = t2_f.sort_values('PricePerUnit')\r\n",
      "\r\n",
      "  print (\"TABLE is \",t2_cheap)\r\n",
      "\r\n"
     ]
    }
   ],
   "source": [
    "!cat awsLink/opt/ga-aws-butzer/python/amazonOverwhelm/amazonPricelistAnalysis.py"
   ]
  },
  {
   "cell_type": "code",
   "execution_count": 59,
   "metadata": {},
   "outputs": [
    {
     "name": "stdout",
     "output_type": "stream",
     "text": [
      "Mon Jul 30 10:50:16 CDT 2018\r\n"
     ]
    }
   ],
   "source": [
    "! date"
   ]
  }
 ],
 "metadata": {
  "kernelspec": {
   "display_name": "Python 3",
   "language": "python",
   "name": "python3"
  },
  "language_info": {
   "codemirror_mode": {
    "name": "ipython",
    "version": 3
   },
   "file_extension": ".py",
   "mimetype": "text/x-python",
   "name": "python",
   "nbconvert_exporter": "python",
   "pygments_lexer": "ipython3",
   "version": "3.4.5"
  }
 },
 "nbformat": 4,
 "nbformat_minor": 1
}
